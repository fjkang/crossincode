{
 "nbformat": 4,
 "nbformat_minor": 2,
 "metadata": {
  "language_info": {
   "name": "python",
   "codemirror_mode": {
    "name": "ipython",
    "version": 3
   },
   "version": "3.7.2-final"
  },
  "orig_nbformat": 2,
  "file_extension": ".py",
  "mimetype": "text/x-python",
  "name": "python",
  "npconvert_exporter": "python",
  "pygments_lexer": "ipython3",
  "version": 3,
  "kernelspec": {
   "name": "python37264bitpandaspipenvfd6d917ada63417297b661f10300e4d1",
   "display_name": "Python 3.7.2 64-bit ('pandas': pipenv)"
  }
 },
 "cells": [
  {
   "cell_type": "code",
   "execution_count": 1,
   "metadata": {},
   "outputs": [],
   "source": [
    "import requests"
   ]
  },
  {
   "cell_type": "markdown",
   "metadata": {},
   "source": [
    "1. 利用豆瓣 api 接口（[https://api.douban.com/v2/movie/1292052?apikey=0df993c66c0c636e29ecbb5344252a4a]）， 获得电影 “肖申克的救赎”的电影海报 url 地址，下载电影海报到本地；"
   ]
  },
  {
   "cell_type": "code",
   "execution_count": 6,
   "metadata": {},
   "outputs": [],
   "source": [
    "url = \"https://api.douban.com/v2/movie/1292052?apikey=0df993c66c0c636e29ecbb5344252a4a\"\n",
    "headers={'user-agent':'chrome'}\n",
    "res = requests.get(url=url, headers=headers)\n",
    "if res.status_code == 200:\n",
    "    data = res.json()\n",
    "    img_url = data.get(\"image\", \"\")\n",
    "    file_name = data.get(\"alt_title\")\n",
    "    if img_url:\n",
    "        file_name = img_url.split(\"/\")[-1].split(\".\")[0]\n",
    "        res = requests.get(url=img_url)\n",
    "        if res.status_code == 200:\n",
    "            img = res.content\n",
    "            if img:\n",
    "                with open(f\"./img/{file_name}.jpg\", \"wb\") as f:\n",
    "                    f.write(img)\n"
   ]
  },
  {
   "cell_type": "code",
   "execution_count": null,
   "metadata": {},
   "outputs": [],
   "source": []
  }
 ]
}