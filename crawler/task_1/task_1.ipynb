{
 "nbformat": 4,
 "nbformat_minor": 2,
 "metadata": {
  "language_info": {
   "name": "python",
   "codemirror_mode": {
    "name": "ipython",
    "version": 3
   },
   "version": "3.7.2-final"
  },
  "orig_nbformat": 2,
  "file_extension": ".py",
  "mimetype": "text/x-python",
  "name": "python",
  "npconvert_exporter": "python",
  "pygments_lexer": "ipython3",
  "version": 3,
  "kernelspec": {
   "name": "python37264bitpandaspipenvfd6d917ada63417297b661f10300e4d1",
   "display_name": "Python 3.7.2 64-bit ('pandas': pipenv)"
  }
 },
 "cells": [
  {
   "cell_type": "code",
   "execution_count": 1,
   "metadata": {},
   "outputs": [
    {
     "name": "stdout",
     "output_type": "stream",
     "text": "\n北京\n9日星期一\n高温 10℃\n低温 -1℃\n<3级\n东北风\n多云\n        \n\n广州\n9日星期一\n高温 27℃\n低温 17℃\n<3级\n无持续风向\n雷阵雨\n        \n\n深圳\n9日星期一\n高温 27℃\n低温 18℃\n3-4级\n南风\n雷阵雨\n        \n\n西藏\n未获取\n        \n\n上海\n9日星期一\n高温 15℃\n低温 10℃\n3-4级\n北风\n小雨\n        \n"
    }
   ],
   "source": [
    "import re\n",
    "import requests\n",
    "\n",
    "while True:\n",
    "    city = input(\"请输入城市，回车退出：\")\n",
    "    if city == \"\":\n",
    "        break\n",
    "    res = requests.get(f\"http://wthrcdn.etouch.cn/weather_mini?city={city}\")\n",
    "    data = res.json().get(\"data\", {})\n",
    "    if data:\n",
    "        weather = data.get(\"forecast\", [])\n",
    "        today = weather[0]\n",
    "        print(f\"\"\"\n",
    "{city}\n",
    "{today[\"date\"]}\n",
    "{today[\"high\"]}\n",
    "{today[\"low\"]}\n",
    "{today[\"fengli\"].lstrip(\"<![\").rstrip(\"]>\").lstrip(\"CDATA[\")}\n",
    "{today[\"fengxiang\"]}\n",
    "{today[\"type\"]}\n",
    "        \"\"\")\n",
    "    else:\n",
    "        print(f\"\"\"\n",
    "{city}\n",
    "未获取\n",
    "        \"\"\")"
   ]
  },
  {
   "cell_type": "code",
   "execution_count": null,
   "metadata": {},
   "outputs": [],
   "source": []
  }
 ]
}