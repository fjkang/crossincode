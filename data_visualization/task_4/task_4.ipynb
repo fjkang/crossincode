{
 "nbformat": 4,
 "nbformat_minor": 2,
 "metadata": {
  "language_info": {
   "name": "python",
   "codemirror_mode": {
    "name": "ipython",
    "version": 3
   },
   "version": "3.7.2-final"
  },
  "orig_nbformat": 2,
  "file_extension": ".py",
  "mimetype": "text/x-python",
  "name": "python",
  "npconvert_exporter": "python",
  "pygments_lexer": "ipython3",
  "version": 3,
  "kernelspec": {
   "name": "python37264bitvenvvirtualenv5955a932922b4205ad7e8410d65632cf",
   "display_name": "Python 3.7.2 64-bit ('.venv': virtualenv)"
  }
 },
 "cells": [
  {
   "cell_type": "code",
   "execution_count": 20,
   "metadata": {},
   "outputs": [],
   "source": [
    "import pandas as pd \n",
    "import numpy as np\n",
    "import pyecharts\n",
    "from pyecharts.globals import CurrentConfig, NotebookType\n",
    "CurrentConfig.NOTEBOOK_TYPE = NotebookType.JUPYTER_LAB\n",
    "\n",
    "from pyecharts.faker import Faker\n",
    "import pyecharts.options as opts\n",
    "from pyecharts.charts import Bar, Pie"
   ]
  },
  {
   "cell_type": "code",
   "execution_count": 21,
   "metadata": {},
   "outputs": [
    {
     "name": "stdout",
     "output_type": "stream",
     "text": "1.6.2\n"
    }
   ],
   "source": [
    "print(pyecharts.__version__)"
   ]
  },
  {
   "cell_type": "markdown",
   "execution_count": null,
   "metadata": {},
   "outputs": [],
   "source": [
    "1.读取 Task_4_lianjia_sale.csv 数据(阅读参考文章 2、3)，利用 groupby 函数，以【区域】字段进行 groupby， 同时结合 agg 聚合函数统计各个区域平均房价;将统计所得平均房价命名为【区域平均价格】列 (阅读参考文章 4、5)并将数据从小到大按顺序排列(提示:df.sort_values(by = “ ”) (阅读参考文章 6));最后展示所得前 5 行数据 (将所得的 DataFrame 命名为 df_avg);"
   ]
  },
  {
   "cell_type": "code",
   "execution_count": 22,
   "metadata": {},
   "outputs": [],
   "source": [
    "f = open('./Task_4_lianjia_sale.csv', 'rb')\n",
    "lianjia_sale_data = pd.read_csv(f)\n",
    "f.close()\n"
   ]
  },
  {
   "cell_type": "code",
   "execution_count": 23,
   "metadata": {},
   "outputs": [
    {
     "data": {
      "text/html": "<div>\n<style scoped>\n    .dataframe tbody tr th:only-of-type {\n        vertical-align: middle;\n    }\n\n    .dataframe tbody tr th {\n        vertical-align: top;\n    }\n\n    .dataframe thead th {\n        text-align: right;\n    }\n</style>\n<table border=\"1\" class=\"dataframe\">\n  <thead>\n    <tr style=\"text-align: right;\">\n      <th></th>\n      <th>区域平均价格</th>\n    </tr>\n    <tr>\n      <th>区域</th>\n      <th></th>\n    </tr>\n  </thead>\n  <tbody>\n    <tr>\n      <th>金山</th>\n      <td>19304.818824</td>\n    </tr>\n    <tr>\n      <th>奉贤</th>\n      <td>23662.131268</td>\n    </tr>\n    <tr>\n      <th>松江</th>\n      <td>36461.715479</td>\n    </tr>\n    <tr>\n      <th>嘉定</th>\n      <td>36587.687199</td>\n    </tr>\n    <tr>\n      <th>青浦</th>\n      <td>37078.860149</td>\n    </tr>\n  </tbody>\n</table>\n</div>",
      "text/plain": "          区域平均价格\n区域              \n金山  19304.818824\n奉贤  23662.131268\n松江  36461.715479\n嘉定  36587.687199\n青浦  37078.860149"
     },
     "execution_count": 23,
     "metadata": {},
     "output_type": "execute_result"
    }
   ],
   "source": [
    "gb = [('区域平均价格', 'mean')]\n",
    "df_avg = lianjia_sale_data.groupby('区域')['价格'].agg(gb).sort_values(by='区域平均价格')\n",
    "df_avg.head()"
   ]
  },
  {
   "cell_type": "markdown",
   "execution_count": null,
   "metadata": {},
   "outputs": [],
   "source": [
    "2.利用 Pyecharts 将第(1)问所得数据作条形图(阅读参考文章 7)，图表标题为“上海各区域平均价格”(提示: 最后用 render_notebook()渲染显示出图片);"
   ]
  },
  {
   "cell_type": "code",
   "execution_count": 24,
   "metadata": {},
   "outputs": [
    {
     "data": {
      "text/plain": "<pyecharts.charts.basic_charts.bar.Bar at 0x1af407dcc18>"
     },
     "execution_count": 24,
     "metadata": {},
     "output_type": "execute_result"
    }
   ],
   "source": [
    "bar_1_x = df_avg.index.values.tolist()\n",
    "bar_1_y = df_avg['区域平均价格'].values.tolist()\n",
    "bar = Bar()\n",
    "bar.add_xaxis(bar_1_x)\n",
    "bar.add_yaxis('区域平均价格', bar_1_y)\n",
    "bar.set_global_opts(title_opts=opts.TitleOpts(title=\"上海各区域平均价格\"))\n",
    "# bar.load_javascript()"
   ]
  },
  {
   "cell_type": "markdown",
   "execution_count": 15,
   "metadata": {},
   "outputs": [
    {
     "ename": "SyntaxError",
     "evalue": "invalid character in identifier (<ipython-input-15-e05ae2b01616>, line 1)",
     "output_type": "error",
     "traceback": [
      "\u001b[1;36m  File \u001b[1;32m\"<ipython-input-15-e05ae2b01616>\"\u001b[1;36m, line \u001b[1;32m1\u001b[0m\n\u001b[1;33m    笔记：vscode的jupyter中显示pyecharts解决办法：https://github.com/pyecharts/pyecharts/issues/1394\u001b[0m\n\u001b[1;37m                                          ^\u001b[0m\n\u001b[1;31mSyntaxError\u001b[0m\u001b[1;31m:\u001b[0m invalid character in identifier\n"
     ]
    }
   ],
   "source": [
    "笔记：vscode的jupyter中显示pyecharts解决办法：https://github.com/pyecharts/pyecharts/issues/1394"
   ]
  },
  {
   "cell_type": "code",
   "execution_count": 25,
   "metadata": {},
   "outputs": [
    {
     "data": {
      "text/html": "<!DOCTYPE html>\n<html>\n<head>\n    <meta charset=\"UTF-8\">\n</head>\n<body>\n        <div id=\"9b330915ea1b4bb186f90af2de56a010\" class=\"chart-container\" style=\"width:900px; height:500px;\"></div>\n    <script>\n        var chart_9b330915ea1b4bb186f90af2de56a010 = echarts.init(\n            document.getElementById('9b330915ea1b4bb186f90af2de56a010'), 'white', {renderer: 'canvas'});\n        var option_9b330915ea1b4bb186f90af2de56a010 = {\n    \"animation\": true,\n    \"animationThreshold\": 2000,\n    \"animationDuration\": 1000,\n    \"animationEasing\": \"cubicOut\",\n    \"animationDelay\": 0,\n    \"animationDurationUpdate\": 300,\n    \"animationEasingUpdate\": \"cubicOut\",\n    \"animationDelayUpdate\": 0,\n    \"color\": [\n        \"#c23531\",\n        \"#2f4554\",\n        \"#61a0a8\",\n        \"#d48265\",\n        \"#749f83\",\n        \"#ca8622\",\n        \"#bda29a\",\n        \"#6e7074\",\n        \"#546570\",\n        \"#c4ccd3\",\n        \"#f05b72\",\n        \"#ef5b9c\",\n        \"#f47920\",\n        \"#905a3d\",\n        \"#fab27b\",\n        \"#2a5caa\",\n        \"#444693\",\n        \"#726930\",\n        \"#b2d235\",\n        \"#6d8346\",\n        \"#ac6767\",\n        \"#1d953f\",\n        \"#6950a1\",\n        \"#918597\"\n    ],\n    \"series\": [\n        {\n            \"type\": \"bar\",\n            \"name\": \"\\u533a\\u57df\\u5e73\\u5747\\u4ef7\\u683c\",\n            \"data\": [\n                19304.81882352941,\n                23662.131267605633,\n                36461.71547922952,\n                36587.68719889883,\n                37078.86014935506,\n                42577.79663212435,\n                49080.58739837398,\n                55413.057913887205,\n                57943.126870826614,\n                62726.67385444744,\n                66165.35283446712,\n                72099.61708770934,\n                74304.76854219948,\n                75395.94198264048,\n                95015.08625196027\n            ],\n            \"barCategoryGap\": \"20%\",\n            \"label\": {\n                \"show\": true,\n                \"position\": \"top\",\n                \"margin\": 8\n            }\n        }\n    ],\n    \"legend\": [\n        {\n            \"data\": [\n                \"\\u533a\\u57df\\u5e73\\u5747\\u4ef7\\u683c\"\n            ],\n            \"selected\": {\n                \"\\u533a\\u57df\\u5e73\\u5747\\u4ef7\\u683c\": true\n            },\n            \"show\": true,\n            \"padding\": 5,\n            \"itemGap\": 10,\n            \"itemWidth\": 25,\n            \"itemHeight\": 14\n        }\n    ],\n    \"tooltip\": {\n        \"show\": true,\n        \"trigger\": \"item\",\n        \"triggerOn\": \"mousemove|click\",\n        \"axisPointer\": {\n            \"type\": \"line\"\n        },\n        \"textStyle\": {\n            \"fontSize\": 14\n        },\n        \"borderWidth\": 0\n    },\n    \"xAxis\": [\n        {\n            \"show\": true,\n            \"scale\": false,\n            \"nameLocation\": \"end\",\n            \"nameGap\": 15,\n            \"gridIndex\": 0,\n            \"inverse\": false,\n            \"offset\": 0,\n            \"splitNumber\": 5,\n            \"minInterval\": 0,\n            \"splitLine\": {\n                \"show\": false,\n                \"lineStyle\": {\n                    \"width\": 1,\n                    \"opacity\": 1,\n                    \"curveness\": 0,\n                    \"type\": \"solid\"\n                }\n            },\n            \"data\": [\n                \"\\u91d1\\u5c71\",\n                \"\\u5949\\u8d24\",\n                \"\\u677e\\u6c5f\",\n                \"\\u5609\\u5b9a\",\n                \"\\u9752\\u6d66\",\n                \"\\u5b9d\\u5c71\",\n                \"\\u95f5\\u884c\",\n                \"\\u6d66\\u4e1c\",\n                \"\\u666e\\u9640\",\n                \"\\u6768\\u6d66\",\n                \"\\u8679\\u53e3\",\n                \"\\u957f\\u5b81\",\n                \"\\u9759\\u5b89\",\n                \"\\u5f90\\u6c47\",\n                \"\\u9ec4\\u6d66\"\n            ]\n        }\n    ],\n    \"yAxis\": [\n        {\n            \"show\": true,\n            \"scale\": false,\n            \"nameLocation\": \"end\",\n            \"nameGap\": 15,\n            \"gridIndex\": 0,\n            \"inverse\": false,\n            \"offset\": 0,\n            \"splitNumber\": 5,\n            \"minInterval\": 0,\n            \"splitLine\": {\n                \"show\": false,\n                \"lineStyle\": {\n                    \"width\": 1,\n                    \"opacity\": 1,\n                    \"curveness\": 0,\n                    \"type\": \"solid\"\n                }\n            }\n        }\n    ],\n    \"title\": [\n        {\n            \"text\": \"\\u4e0a\\u6d77\\u5404\\u533a\\u57df\\u5e73\\u5747\\u4ef7\\u683c\",\n            \"padding\": 5,\n            \"itemGap\": 10\n        }\n    ]\n};\n        chart_9b330915ea1b4bb186f90af2de56a010.setOption(option_9b330915ea1b4bb186f90af2de56a010);\n    </script>\n</body>\n</html>\n",
      "text/plain": "<pyecharts.render.display.HTML at 0x1af3ff22f98>"
     },
     "execution_count": 25,
     "metadata": {},
     "output_type": "execute_result"
    }
   ],
   "source": [
    "bar.render_notebook()"
   ]
  },
  {
   "cell_type": "markdown",
   "execution_count": null,
   "metadata": {},
   "outputs": [],
   "source": [
    "3.利用 groupby 函数，以【装修类型】字段进行 groupby，同时结合 agg 聚合函数统计各个区域房源数量;将统计所得数据命名为【房源数量】列;最后展示所得数据(将所得的 DataFrame 命名为 df_zhuangxiu);"
   ]
  },
  {
   "cell_type": "code",
   "execution_count": 26,
   "metadata": {},
   "outputs": [
    {
     "data": {
      "text/html": "<div>\n<style scoped>\n    .dataframe tbody tr th:only-of-type {\n        vertical-align: middle;\n    }\n\n    .dataframe tbody tr th {\n        vertical-align: top;\n    }\n\n    .dataframe thead th {\n        text-align: right;\n    }\n</style>\n<table border=\"1\" class=\"dataframe\">\n  <thead>\n    <tr style=\"text-align: right;\">\n      <th></th>\n      <th>房源数量</th>\n    </tr>\n    <tr>\n      <th>装修类型</th>\n      <th></th>\n    </tr>\n  </thead>\n  <tbody>\n    <tr>\n      <th>其他</th>\n      <td>5414</td>\n    </tr>\n    <tr>\n      <th>毛坯</th>\n      <td>5357</td>\n    </tr>\n    <tr>\n      <th>简装</th>\n      <td>22819</td>\n    </tr>\n    <tr>\n      <th>精装</th>\n      <td>32425</td>\n    </tr>\n  </tbody>\n</table>\n</div>",
      "text/plain": "       房源数量\n装修类型       \n 其他    5414\n 毛坯    5357\n 简装   22819\n 精装   32425"
     },
     "execution_count": 26,
     "metadata": {},
     "output_type": "execute_result"
    }
   ],
   "source": [
    "gb_count = [('房源数量', 'count')]\n",
    "df_zhuangxiu = lianjia_sale_data.groupby('装修类型')['区域'].agg(gb_count)\n",
    "df_zhuangxiu"
   ]
  },
  {
   "cell_type": "markdown",
   "execution_count": null,
   "metadata": {},
   "outputs": [],
   "source": [
    "4.利用 Pyecharts 将第(3)问所得数据作饼图(阅读参考文章 7、8)，图表标题为“装修类型占比情况”(提示: v1=\\[\"啤酒\",\"可乐\",\"雪碧\",\"咖啡\",\"奶茶\"\\] v2=\\[30,19,21,12,18\\]，a = \\[list(z) for z in zip(v1,v2)\\]， 则生成 v1 与 v2 一一对应的数据)。"
   ]
  },
  {
   "cell_type": "code",
   "execution_count": 27,
   "metadata": {},
   "outputs": [
    {
     "data": {
      "text/plain": "<pyecharts.charts.basic_charts.pie.Pie at 0x1af408b54e0>"
     },
     "execution_count": 27,
     "metadata": {},
     "output_type": "execute_result"
    }
   ],
   "source": [
    "pie_1_type = df_zhuangxiu.index.values.tolist()\n",
    "pie_1_value = df_zhuangxiu['房源数量'].values.tolist()\n",
    "pie = Pie()\n",
    "pie.add('', zip(pie_1_type, pie_1_value))\n",
    "pie.set_global_opts(title_opts=opts.TitleOpts(title=\"装修类型占比情况\"))\n",
    "# pie.load_javascript()"
   ]
  },
  {
   "cell_type": "code",
   "execution_count": 28,
   "metadata": {},
   "outputs": [
    {
     "data": {
      "text/html": "<!DOCTYPE html>\n<html>\n<head>\n    <meta charset=\"UTF-8\">\n</head>\n<body>\n        <div id=\"53b662d672f241aaa4dacfd18eb95859\" class=\"chart-container\" style=\"width:900px; height:500px;\"></div>\n    <script>\n        var chart_53b662d672f241aaa4dacfd18eb95859 = echarts.init(\n            document.getElementById('53b662d672f241aaa4dacfd18eb95859'), 'white', {renderer: 'canvas'});\n        var option_53b662d672f241aaa4dacfd18eb95859 = {\n    \"animation\": true,\n    \"animationThreshold\": 2000,\n    \"animationDuration\": 1000,\n    \"animationEasing\": \"cubicOut\",\n    \"animationDelay\": 0,\n    \"animationDurationUpdate\": 300,\n    \"animationEasingUpdate\": \"cubicOut\",\n    \"animationDelayUpdate\": 0,\n    \"color\": [\n        \"#c23531\",\n        \"#2f4554\",\n        \"#61a0a8\",\n        \"#d48265\",\n        \"#749f83\",\n        \"#ca8622\",\n        \"#bda29a\",\n        \"#6e7074\",\n        \"#546570\",\n        \"#c4ccd3\",\n        \"#f05b72\",\n        \"#ef5b9c\",\n        \"#f47920\",\n        \"#905a3d\",\n        \"#fab27b\",\n        \"#2a5caa\",\n        \"#444693\",\n        \"#726930\",\n        \"#b2d235\",\n        \"#6d8346\",\n        \"#ac6767\",\n        \"#1d953f\",\n        \"#6950a1\",\n        \"#918597\"\n    ],\n    \"series\": [\n        {\n            \"type\": \"pie\",\n            \"clockwise\": true,\n            \"data\": [\n                {\n                    \"name\": \" \\u5176\\u4ed6 \",\n                    \"value\": 5414\n                },\n                {\n                    \"name\": \" \\u6bdb\\u576f \",\n                    \"value\": 5357\n                },\n                {\n                    \"name\": \" \\u7b80\\u88c5 \",\n                    \"value\": 22819\n                },\n                {\n                    \"name\": \" \\u7cbe\\u88c5 \",\n                    \"value\": 32425\n                }\n            ],\n            \"radius\": [\n                \"0%\",\n                \"75%\"\n            ],\n            \"center\": [\n                \"50%\",\n                \"50%\"\n            ],\n            \"label\": {\n                \"show\": true,\n                \"position\": \"top\",\n                \"margin\": 8\n            }\n        }\n    ],\n    \"legend\": [\n        {\n            \"data\": [],\n            \"selected\": {},\n            \"show\": true,\n            \"padding\": 5,\n            \"itemGap\": 10,\n            \"itemWidth\": 25,\n            \"itemHeight\": 14\n        }\n    ],\n    \"tooltip\": {\n        \"show\": true,\n        \"trigger\": \"item\",\n        \"triggerOn\": \"mousemove|click\",\n        \"axisPointer\": {\n            \"type\": \"line\"\n        },\n        \"textStyle\": {\n            \"fontSize\": 14\n        },\n        \"borderWidth\": 0\n    },\n    \"title\": [\n        {\n            \"text\": \"\\u88c5\\u4fee\\u7c7b\\u578b\\u5360\\u6bd4\\u60c5\\u51b5\",\n            \"padding\": 5,\n            \"itemGap\": 10\n        }\n    ]\n};\n        chart_53b662d672f241aaa4dacfd18eb95859.setOption(option_53b662d672f241aaa4dacfd18eb95859);\n    </script>\n</body>\n</html>\n",
      "text/plain": "<pyecharts.render.display.HTML at 0x1af406e8940>"
     },
     "execution_count": 28,
     "metadata": {},
     "output_type": "execute_result"
    }
   ],
   "source": [
    "pie.render_notebook()"
   ]
  },
  {
   "cell_type": "code",
   "execution_count": null,
   "metadata": {},
   "outputs": [],
   "source": []
  }
 ]
}