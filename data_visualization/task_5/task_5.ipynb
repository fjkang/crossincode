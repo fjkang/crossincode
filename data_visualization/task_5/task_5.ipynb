{
 "nbformat": 4,
 "nbformat_minor": 2,
 "metadata": {
  "language_info": {
   "name": "python",
   "codemirror_mode": {
    "name": "ipython",
    "version": 3
   },
   "version": "3.7.2-final"
  },
  "orig_nbformat": 2,
  "file_extension": ".py",
  "mimetype": "text/x-python",
  "name": "python",
  "npconvert_exporter": "python",
  "pygments_lexer": "ipython3",
  "version": 3,
  "kernelspec": {
   "name": "python37264bitvenvvirtualenv5955a932922b4205ad7e8410d65632cf",
   "display_name": "Python 3.7.2 64-bit ('.venv': virtualenv)"
  }
 },
 "cells": [
  {
   "cell_type": "code",
   "execution_count": 1,
   "metadata": {},
   "outputs": [],
   "source": [
    "import tushare as ts\n",
    "import pandas as pd \n",
    "import numpy as np\n",
    "import pyecharts\n",
    "from pyecharts.globals import CurrentConfig, NotebookType\n",
    "CurrentConfig.NOTEBOOK_TYPE = NotebookType.JUPYTER_LAB\n",
    "\n",
    "from pyecharts.faker import Faker\n",
    "import pyecharts.options as opts\n",
    "from pyecharts.charts import Map,Geo"
   ]
  },
  {
   "cell_type": "markdown",
   "execution_count": null,
   "metadata": {},
   "outputs": [],
   "source": [
    "1.根据任务 4 所统计的上海各个区的房均价数据，利用 Pyecharts 中的 Map，以上海地图为背景作可视化展示图 (提示:可以直接定义 districts = \\['金山区', '奉贤区', '嘉定区', '松江区', '青浦区', '宝山区', '闵行区 ', '浦东新区', '普陀区', '杨浦区', '虹口区', '长宁区', '静安区', '徐汇区', '黄浦区'\\])(阅读参考文章 2);"
   ]
  },
  {
   "cell_type": "code",
   "execution_count": 2,
   "metadata": {},
   "outputs": [],
   "source": [
    "f = open('./Task_4_lianjia_sale.csv', 'rb')\n",
    "lianjia_sale_data = pd.read_csv(f)\n",
    "f.close()"
   ]
  },
  {
   "cell_type": "code",
   "execution_count": 3,
   "metadata": {},
   "outputs": [
    {
     "data": {
      "text/html": "<div>\n<style scoped>\n    .dataframe tbody tr th:only-of-type {\n        vertical-align: middle;\n    }\n\n    .dataframe tbody tr th {\n        vertical-align: top;\n    }\n\n    .dataframe thead th {\n        text-align: right;\n    }\n</style>\n<table border=\"1\" class=\"dataframe\">\n  <thead>\n    <tr style=\"text-align: right;\">\n      <th></th>\n      <th>区域平均价格</th>\n    </tr>\n    <tr>\n      <th>区域</th>\n      <th></th>\n    </tr>\n  </thead>\n  <tbody>\n    <tr>\n      <th>嘉定</th>\n      <td>36587.687199</td>\n    </tr>\n    <tr>\n      <th>奉贤</th>\n      <td>23662.131268</td>\n    </tr>\n    <tr>\n      <th>宝山</th>\n      <td>42577.796632</td>\n    </tr>\n    <tr>\n      <th>徐汇</th>\n      <td>75395.941983</td>\n    </tr>\n    <tr>\n      <th>普陀</th>\n      <td>57943.126871</td>\n    </tr>\n    <tr>\n      <th>杨浦</th>\n      <td>62726.673854</td>\n    </tr>\n    <tr>\n      <th>松江</th>\n      <td>36461.715479</td>\n    </tr>\n    <tr>\n      <th>浦东</th>\n      <td>55413.057914</td>\n    </tr>\n    <tr>\n      <th>虹口</th>\n      <td>66165.352834</td>\n    </tr>\n    <tr>\n      <th>金山</th>\n      <td>19304.818824</td>\n    </tr>\n    <tr>\n      <th>长宁</th>\n      <td>72099.617088</td>\n    </tr>\n    <tr>\n      <th>闵行</th>\n      <td>49080.587398</td>\n    </tr>\n    <tr>\n      <th>青浦</th>\n      <td>37078.860149</td>\n    </tr>\n    <tr>\n      <th>静安</th>\n      <td>74304.768542</td>\n    </tr>\n    <tr>\n      <th>黄浦</th>\n      <td>95015.086252</td>\n    </tr>\n  </tbody>\n</table>\n</div>",
      "text/plain": "          区域平均价格\n区域              \n嘉定  36587.687199\n奉贤  23662.131268\n宝山  42577.796632\n徐汇  75395.941983\n普陀  57943.126871\n杨浦  62726.673854\n松江  36461.715479\n浦东  55413.057914\n虹口  66165.352834\n金山  19304.818824\n长宁  72099.617088\n闵行  49080.587398\n青浦  37078.860149\n静安  74304.768542\n黄浦  95015.086252"
     },
     "execution_count": 3,
     "metadata": {},
     "output_type": "execute_result"
    }
   ],
   "source": [
    "df_avg = lianjia_sale_data.groupby('区域')['价格'].agg([('区域平均价格', 'mean')])\n",
    "df_avg"
   ]
  },
  {
   "cell_type": "code",
   "execution_count": 11,
   "metadata": {},
   "outputs": [
    {
     "data": {
      "application/javascript": "new Promise(function(resolve, reject) {\n    var script = document.createElement(\"script\");\n    script.onload = resolve;\n    script.onerror = reject;\n    script.src = \"https://assets.pyecharts.org/assets/echarts.min.js\";\n    document.head.appendChild(script);\n}).then(() => {\nnew Promise(function(resolve, reject) {\n    var script = document.createElement(\"script\");\n    script.onload = resolve;\n    script.onerror = reject;\n    script.src = \"https://assets.pyecharts.org/assets/maps/shanghai.js\";\n    document.head.appendChild(script);\n}).then(() => {\n\n});\n});",
      "text/plain": "<pyecharts.render.display.Javascript at 0x247af797f60>"
     },
     "execution_count": 11,
     "metadata": {},
     "output_type": "execute_result"
    }
   ],
   "source": [
    "districts = list(map(lambda x: x+'区', df_avg.index.values.tolist()))\n",
    "price = df_avg['区域平均价格'].values.tolist()\n",
    "map_1 = Map()\n",
    "map_1.set_global_opts(title_opts=opts.TitleOpts(title=\"上海各个区的房均价\"))\n",
    "map_1.add(\"上海各个区的房均价\", zip(districts, price), maptype=\"上海\")\n",
    "map_1.load_javascript()"
   ]
  },
  {
   "cell_type": "code",
   "execution_count": 12,
   "metadata": {},
   "outputs": [
    {
     "data": {
      "text/html": "<!DOCTYPE html>\n<html>\n<head>\n    <meta charset=\"UTF-8\">\n</head>\n<body>\n        <div id=\"8219571ac83c4cacbfb37c7c55a19caa\" class=\"chart-container\" style=\"width:900px; height:500px;\"></div>\n    <script>\n        var chart_8219571ac83c4cacbfb37c7c55a19caa = echarts.init(\n            document.getElementById('8219571ac83c4cacbfb37c7c55a19caa'), 'white', {renderer: 'canvas'});\n        var option_8219571ac83c4cacbfb37c7c55a19caa = {\n    \"animation\": true,\n    \"animationThreshold\": 2000,\n    \"animationDuration\": 1000,\n    \"animationEasing\": \"cubicOut\",\n    \"animationDelay\": 0,\n    \"animationDurationUpdate\": 300,\n    \"animationEasingUpdate\": \"cubicOut\",\n    \"animationDelayUpdate\": 0,\n    \"color\": [\n        \"#c23531\",\n        \"#2f4554\",\n        \"#61a0a8\",\n        \"#d48265\",\n        \"#749f83\",\n        \"#ca8622\",\n        \"#bda29a\",\n        \"#6e7074\",\n        \"#546570\",\n        \"#c4ccd3\",\n        \"#f05b72\",\n        \"#ef5b9c\",\n        \"#f47920\",\n        \"#905a3d\",\n        \"#fab27b\",\n        \"#2a5caa\",\n        \"#444693\",\n        \"#726930\",\n        \"#b2d235\",\n        \"#6d8346\",\n        \"#ac6767\",\n        \"#1d953f\",\n        \"#6950a1\",\n        \"#918597\"\n    ],\n    \"series\": [\n        {\n            \"type\": \"map\",\n            \"name\": \"\\u4e0a\\u6d77\\u5404\\u4e2a\\u533a\\u7684\\u623f\\u5747\\u4ef7\",\n            \"label\": {\n                \"show\": true,\n                \"position\": \"top\",\n                \"margin\": 8\n            },\n            \"mapType\": \"\\u4e0a\\u6d77\",\n            \"data\": [\n                {\n                    \"name\": \"\\u5609\\u5b9a\\u533a\",\n                    \"value\": 36587.68719889883\n                },\n                {\n                    \"name\": \"\\u5949\\u8d24\\u533a\",\n                    \"value\": 23662.131267605633\n                },\n                {\n                    \"name\": \"\\u5b9d\\u5c71\\u533a\",\n                    \"value\": 42577.79663212435\n                },\n                {\n                    \"name\": \"\\u5f90\\u6c47\\u533a\",\n                    \"value\": 75395.94198264048\n                },\n                {\n                    \"name\": \"\\u666e\\u9640\\u533a\",\n                    \"value\": 57943.126870826614\n                },\n                {\n                    \"name\": \"\\u6768\\u6d66\\u533a\",\n                    \"value\": 62726.67385444744\n                },\n                {\n                    \"name\": \"\\u677e\\u6c5f\\u533a\",\n                    \"value\": 36461.71547922952\n                },\n                {\n                    \"name\": \"\\u6d66\\u4e1c\\u533a\",\n                    \"value\": 55413.057913887205\n                },\n                {\n                    \"name\": \"\\u8679\\u53e3\\u533a\",\n                    \"value\": 66165.35283446712\n                },\n                {\n                    \"name\": \"\\u91d1\\u5c71\\u533a\",\n                    \"value\": 19304.81882352941\n                },\n                {\n                    \"name\": \"\\u957f\\u5b81\\u533a\",\n                    \"value\": 72099.61708770934\n                },\n                {\n                    \"name\": \"\\u95f5\\u884c\\u533a\",\n                    \"value\": 49080.58739837398\n                },\n                {\n                    \"name\": \"\\u9752\\u6d66\\u533a\",\n                    \"value\": 37078.86014935506\n                },\n                {\n                    \"name\": \"\\u9759\\u5b89\\u533a\",\n                    \"value\": 74304.76854219948\n                },\n                {\n                    \"name\": \"\\u9ec4\\u6d66\\u533a\",\n                    \"value\": 95015.08625196027\n                }\n            ],\n            \"roam\": true,\n            \"zoom\": 1,\n            \"showLegendSymbol\": true,\n            \"emphasis\": {}\n        }\n    ],\n    \"legend\": [\n        {\n            \"data\": [\n                \"\\u4e0a\\u6d77\\u5404\\u4e2a\\u533a\\u7684\\u623f\\u5747\\u4ef7\"\n            ],\n            \"selected\": {\n                \"\\u4e0a\\u6d77\\u5404\\u4e2a\\u533a\\u7684\\u623f\\u5747\\u4ef7\": true\n            },\n            \"show\": true,\n            \"padding\": 5,\n            \"itemGap\": 10,\n            \"itemWidth\": 25,\n            \"itemHeight\": 14\n        }\n    ],\n    \"tooltip\": {\n        \"show\": true,\n        \"trigger\": \"item\",\n        \"triggerOn\": \"mousemove|click\",\n        \"axisPointer\": {\n            \"type\": \"line\"\n        },\n        \"textStyle\": {\n            \"fontSize\": 14\n        },\n        \"borderWidth\": 0\n    },\n    \"title\": [\n        {\n            \"text\": \"\\u4e0a\\u6d77\\u5404\\u4e2a\\u533a\\u7684\\u623f\\u5747\\u4ef7\",\n            \"padding\": 5,\n            \"itemGap\": 10\n        }\n    ]\n};\n        chart_8219571ac83c4cacbfb37c7c55a19caa.setOption(option_8219571ac83c4cacbfb37c7c55a19caa);\n    </script>\n</body>\n</html>\n",
      "text/plain": "<pyecharts.render.display.HTML at 0x247adb246a0>"
     },
     "execution_count": 12,
     "metadata": {},
     "output_type": "execute_result"
    }
   ],
   "source": [
    "map_1.render_notebook()"
   ]
  },
  {
   "cell_type": "markdown",
   "execution_count": null,
   "metadata": {},
   "outputs": [],
   "source": [
    "2.导入 tushare 数据包，提取 A 股基本数据信息，利用 groupby 函数统计每个省份的公司数量，并以中国地图 为背景作相应图表(阅读参考文章 2、3、4)"
   ]
  },
  {
   "cell_type": "code",
   "execution_count": 6,
   "metadata": {},
   "outputs": [
    {
     "data": {
      "text/html": "<div>\n<style scoped>\n    .dataframe tbody tr th:only-of-type {\n        vertical-align: middle;\n    }\n\n    .dataframe tbody tr th {\n        vertical-align: top;\n    }\n\n    .dataframe thead th {\n        text-align: right;\n    }\n</style>\n<table border=\"1\" class=\"dataframe\">\n  <thead>\n    <tr style=\"text-align: right;\">\n      <th></th>\n      <th>name</th>\n      <th>industry</th>\n      <th>area</th>\n      <th>pe</th>\n      <th>outstanding</th>\n      <th>totals</th>\n      <th>totalAssets</th>\n      <th>liquidAssets</th>\n      <th>fixedAssets</th>\n      <th>reserved</th>\n      <th>...</th>\n      <th>bvps</th>\n      <th>pb</th>\n      <th>timeToMarket</th>\n      <th>undp</th>\n      <th>perundp</th>\n      <th>rev</th>\n      <th>profit</th>\n      <th>gpr</th>\n      <th>npr</th>\n      <th>holders</th>\n    </tr>\n    <tr>\n      <th>code</th>\n      <th></th>\n      <th></th>\n      <th></th>\n      <th></th>\n      <th></th>\n      <th></th>\n      <th></th>\n      <th></th>\n      <th></th>\n      <th></th>\n      <th></th>\n      <th></th>\n      <th></th>\n      <th></th>\n      <th></th>\n      <th></th>\n      <th></th>\n      <th></th>\n      <th></th>\n      <th></th>\n      <th></th>\n    </tr>\n  </thead>\n  <tbody>\n    <tr>\n      <th>688159</th>\n      <td>N有方</td>\n      <td>软件服务</td>\n      <td>深圳</td>\n      <td>134.49</td>\n      <td>0.19</td>\n      <td>0.92</td>\n      <td>8.03</td>\n      <td>6.18</td>\n      <td>0.06</td>\n      <td>2.82</td>\n      <td>...</td>\n      <td>9.81</td>\n      <td>5.77</td>\n      <td>20200123</td>\n      <td>1.23</td>\n      <td>1.34</td>\n      <td>0.00</td>\n      <td>0.00</td>\n      <td>22.88</td>\n      <td>5.66</td>\n      <td>19486.0</td>\n    </tr>\n    <tr>\n      <th>688266</th>\n      <td>N泽璟</td>\n      <td>化学制药</td>\n      <td>江苏</td>\n      <td>0.00</td>\n      <td>0.55</td>\n      <td>2.40</td>\n      <td>2.97</td>\n      <td>1.17</td>\n      <td>0.56</td>\n      <td>2.86</td>\n      <td>...</td>\n      <td>8.20</td>\n      <td>9.10</td>\n      <td>20200123</td>\n      <td>-4.09</td>\n      <td>-1.70</td>\n      <td>0.00</td>\n      <td>0.00</td>\n      <td>0.00</td>\n      <td>0.00</td>\n      <td>36598.0</td>\n    </tr>\n    <tr>\n      <th>300815</th>\n      <td>N玉禾田</td>\n      <td>环境保护</td>\n      <td>安徽</td>\n      <td>18.46</td>\n      <td>0.35</td>\n      <td>1.38</td>\n      <td>24.84</td>\n      <td>14.23</td>\n      <td>5.47</td>\n      <td>0.28</td>\n      <td>...</td>\n      <td>13.60</td>\n      <td>3.13</td>\n      <td>20200123</td>\n      <td>7.88</td>\n      <td>5.70</td>\n      <td>0.00</td>\n      <td>0.00</td>\n      <td>21.73</td>\n      <td>9.09</td>\n      <td>68996.0</td>\n    </tr>\n    <tr>\n      <th>688068</th>\n      <td>热景生物</td>\n      <td>医疗保健</td>\n      <td>北京</td>\n      <td>251.27</td>\n      <td>0.14</td>\n      <td>0.62</td>\n      <td>6.98</td>\n      <td>5.45</td>\n      <td>1.25</td>\n      <td>4.46</td>\n      <td>...</td>\n      <td>10.04</td>\n      <td>7.09</td>\n      <td>20190930</td>\n      <td>1.06</td>\n      <td>1.71</td>\n      <td>0.00</td>\n      <td>0.00</td>\n      <td>72.54</td>\n      <td>9.60</td>\n      <td>10316.0</td>\n    </tr>\n    <tr>\n      <th>600789</th>\n      <td>鲁抗医药</td>\n      <td>化学制药</td>\n      <td>山东</td>\n      <td>73.98</td>\n      <td>8.52</td>\n      <td>8.80</td>\n      <td>70.58</td>\n      <td>27.59</td>\n      <td>22.30</td>\n      <td>16.25</td>\n      <td>...</td>\n      <td>3.42</td>\n      <td>3.33</td>\n      <td>19970226</td>\n      <td>3.51</td>\n      <td>0.40</td>\n      <td>15.07</td>\n      <td>-29.42</td>\n      <td>28.21</td>\n      <td>3.72</td>\n      <td>112796.0</td>\n    </tr>\n    <tr>\n      <th>...</th>\n      <td>...</td>\n      <td>...</td>\n      <td>...</td>\n      <td>...</td>\n      <td>...</td>\n      <td>...</td>\n      <td>...</td>\n      <td>...</td>\n      <td>...</td>\n      <td>...</td>\n      <td>...</td>\n      <td>...</td>\n      <td>...</td>\n      <td>...</td>\n      <td>...</td>\n      <td>...</td>\n      <td>...</td>\n      <td>...</td>\n      <td>...</td>\n      <td>...</td>\n      <td>...</td>\n    </tr>\n    <tr>\n      <th>300216</th>\n      <td>千山药机</td>\n      <td>医疗保健</td>\n      <td>湖南</td>\n      <td>0.00</td>\n      <td>2.92</td>\n      <td>3.61</td>\n      <td>23.66</td>\n      <td>9.58</td>\n      <td>4.17</td>\n      <td>2.24</td>\n      <td>...</td>\n      <td>-6.28</td>\n      <td>0.00</td>\n      <td>20110511</td>\n      <td>-29.24</td>\n      <td>-8.09</td>\n      <td>-15.83</td>\n      <td>-17.28</td>\n      <td>19.37</td>\n      <td>-321.83</td>\n      <td>48186.0</td>\n    </tr>\n    <tr>\n      <th>300104</th>\n      <td>乐视网</td>\n      <td>互联网</td>\n      <td>北京</td>\n      <td>0.00</td>\n      <td>39.66</td>\n      <td>39.89</td>\n      <td>79.24</td>\n      <td>27.19</td>\n      <td>2.30</td>\n      <td>90.48</td>\n      <td>...</td>\n      <td>-3.32</td>\n      <td>0.00</td>\n      <td>20100812</td>\n      <td>-265.38</td>\n      <td>-6.65</td>\n      <td>-71.69</td>\n      <td>-584.36</td>\n      <td>28.36</td>\n      <td>-2671.50</td>\n      <td>280736.0</td>\n    </tr>\n    <tr>\n      <th>300028</th>\n      <td>金亚科技</td>\n      <td>通信设备</td>\n      <td>四川</td>\n      <td>0.00</td>\n      <td>3.44</td>\n      <td>3.44</td>\n      <td>2.03</td>\n      <td>0.32</td>\n      <td>1.04</td>\n      <td>3.63</td>\n      <td>...</td>\n      <td>0.38</td>\n      <td>0.00</td>\n      <td>20091030</td>\n      <td>-5.78</td>\n      <td>-1.68</td>\n      <td>-80.46</td>\n      <td>-157.72</td>\n      <td>-158.78</td>\n      <td>-849.87</td>\n      <td>44900.0</td>\n    </tr>\n    <tr>\n      <th>002975</th>\n      <td>博杰股份</td>\n      <td>专用机械</td>\n      <td>广东</td>\n      <td>0.00</td>\n      <td>0.00</td>\n      <td>0.00</td>\n      <td>7.18</td>\n      <td>5.79</td>\n      <td>0.45</td>\n      <td>2.51</td>\n      <td>...</td>\n      <td>0.00</td>\n      <td>0.00</td>\n      <td>0</td>\n      <td>2.02</td>\n      <td>0.00</td>\n      <td>0.00</td>\n      <td>0.00</td>\n      <td>49.17</td>\n      <td>20.20</td>\n      <td>0.0</td>\n    </tr>\n    <tr>\n      <th>002604</th>\n      <td>*ST龙力</td>\n      <td>食品</td>\n      <td>山东</td>\n      <td>0.00</td>\n      <td>5.13</td>\n      <td>6.00</td>\n      <td>13.02</td>\n      <td>3.72</td>\n      <td>5.83</td>\n      <td>18.42</td>\n      <td>...</td>\n      <td>-5.92</td>\n      <td>0.00</td>\n      <td>20110728</td>\n      <td>-60.83</td>\n      <td>-10.15</td>\n      <td>-53.99</td>\n      <td>-26.71</td>\n      <td>18.00</td>\n      <td>-103.34</td>\n      <td>48426.0</td>\n    </tr>\n  </tbody>\n</table>\n<p>3789 rows × 22 columns</p>\n</div>",
      "text/plain": "         name industry area      pe  outstanding  totals  totalAssets  \\\ncode                                                                    \n688159    N有方     软件服务   深圳  134.49         0.19    0.92         8.03   \n688266    N泽璟     化学制药   江苏    0.00         0.55    2.40         2.97   \n300815   N玉禾田     环境保护   安徽   18.46         0.35    1.38        24.84   \n688068   热景生物     医疗保健   北京  251.27         0.14    0.62         6.98   \n600789   鲁抗医药     化学制药   山东   73.98         8.52    8.80        70.58   \n...       ...      ...  ...     ...          ...     ...          ...   \n300216   千山药机     医疗保健   湖南    0.00         2.92    3.61        23.66   \n300104    乐视网      互联网   北京    0.00        39.66   39.89        79.24   \n300028   金亚科技     通信设备   四川    0.00         3.44    3.44         2.03   \n002975   博杰股份     专用机械   广东    0.00         0.00    0.00         7.18   \n002604  *ST龙力       食品   山东    0.00         5.13    6.00        13.02   \n\n        liquidAssets  fixedAssets  reserved  ...   bvps    pb  timeToMarket  \\\ncode                                         ...                              \n688159          6.18         0.06      2.82  ...   9.81  5.77      20200123   \n688266          1.17         0.56      2.86  ...   8.20  9.10      20200123   \n300815         14.23         5.47      0.28  ...  13.60  3.13      20200123   \n688068          5.45         1.25      4.46  ...  10.04  7.09      20190930   \n600789         27.59        22.30     16.25  ...   3.42  3.33      19970226   \n...              ...          ...       ...  ...    ...   ...           ...   \n300216          9.58         4.17      2.24  ...  -6.28  0.00      20110511   \n300104         27.19         2.30     90.48  ...  -3.32  0.00      20100812   \n300028          0.32         1.04      3.63  ...   0.38  0.00      20091030   \n002975          5.79         0.45      2.51  ...   0.00  0.00             0   \n002604          3.72         5.83     18.42  ...  -5.92  0.00      20110728   \n\n          undp  perundp    rev  profit     gpr      npr   holders  \ncode                                                               \n688159    1.23     1.34   0.00    0.00   22.88     5.66   19486.0  \n688266   -4.09    -1.70   0.00    0.00    0.00     0.00   36598.0  \n300815    7.88     5.70   0.00    0.00   21.73     9.09   68996.0  \n688068    1.06     1.71   0.00    0.00   72.54     9.60   10316.0  \n600789    3.51     0.40  15.07  -29.42   28.21     3.72  112796.0  \n...        ...      ...    ...     ...     ...      ...       ...  \n300216  -29.24    -8.09 -15.83  -17.28   19.37  -321.83   48186.0  \n300104 -265.38    -6.65 -71.69 -584.36   28.36 -2671.50  280736.0  \n300028   -5.78    -1.68 -80.46 -157.72 -158.78  -849.87   44900.0  \n002975    2.02     0.00   0.00    0.00   49.17    20.20       0.0  \n002604  -60.83   -10.15 -53.99  -26.71   18.00  -103.34   48426.0  \n\n[3789 rows x 22 columns]"
     },
     "execution_count": 6,
     "metadata": {},
     "output_type": "execute_result"
    }
   ],
   "source": [
    "df = ts.get_stock_basics()\n",
    "df"
   ]
  },
  {
   "cell_type": "code",
   "execution_count": 7,
   "metadata": {},
   "outputs": [
    {
     "data": {
      "text/html": "<div>\n<style scoped>\n    .dataframe tbody tr th:only-of-type {\n        vertical-align: middle;\n    }\n\n    .dataframe tbody tr th {\n        vertical-align: top;\n    }\n\n    .dataframe thead th {\n        text-align: right;\n    }\n</style>\n<table border=\"1\" class=\"dataframe\">\n  <thead>\n    <tr style=\"text-align: right;\">\n      <th></th>\n      <th>省公司数量</th>\n    </tr>\n    <tr>\n      <th>area</th>\n      <th></th>\n    </tr>\n  </thead>\n  <tbody>\n    <tr>\n      <th>上海</th>\n      <td>305</td>\n    </tr>\n    <tr>\n      <th>云南</th>\n      <td>36</td>\n    </tr>\n    <tr>\n      <th>内蒙</th>\n      <td>25</td>\n    </tr>\n    <tr>\n      <th>北京</th>\n      <td>348</td>\n    </tr>\n    <tr>\n      <th>吉林</th>\n      <td>42</td>\n    </tr>\n    <tr>\n      <th>四川</th>\n      <td>125</td>\n    </tr>\n    <tr>\n      <th>天津</th>\n      <td>54</td>\n    </tr>\n    <tr>\n      <th>宁夏</th>\n      <td>14</td>\n    </tr>\n    <tr>\n      <th>安徽</th>\n      <td>107</td>\n    </tr>\n    <tr>\n      <th>山东</th>\n      <td>209</td>\n    </tr>\n    <tr>\n      <th>山西</th>\n      <td>37</td>\n    </tr>\n    <tr>\n      <th>广东</th>\n      <td>323</td>\n    </tr>\n    <tr>\n      <th>广西</th>\n      <td>38</td>\n    </tr>\n    <tr>\n      <th>新疆</th>\n      <td>55</td>\n    </tr>\n    <tr>\n      <th>江苏</th>\n      <td>429</td>\n    </tr>\n    <tr>\n      <th>江西</th>\n      <td>43</td>\n    </tr>\n    <tr>\n      <th>河北</th>\n      <td>57</td>\n    </tr>\n    <tr>\n      <th>河南</th>\n      <td>80</td>\n    </tr>\n    <tr>\n      <th>浙江</th>\n      <td>464</td>\n    </tr>\n    <tr>\n      <th>海南</th>\n      <td>31</td>\n    </tr>\n    <tr>\n      <th>深圳</th>\n      <td>302</td>\n    </tr>\n    <tr>\n      <th>湖北</th>\n      <td>108</td>\n    </tr>\n    <tr>\n      <th>湖南</th>\n      <td>106</td>\n    </tr>\n    <tr>\n      <th>甘肃</th>\n      <td>33</td>\n    </tr>\n    <tr>\n      <th>福建</th>\n      <td>141</td>\n    </tr>\n    <tr>\n      <th>西藏</th>\n      <td>19</td>\n    </tr>\n    <tr>\n      <th>贵州</th>\n      <td>29</td>\n    </tr>\n    <tr>\n      <th>辽宁</th>\n      <td>73</td>\n    </tr>\n    <tr>\n      <th>重庆</th>\n      <td>53</td>\n    </tr>\n    <tr>\n      <th>陕西</th>\n      <td>53</td>\n    </tr>\n    <tr>\n      <th>青海</th>\n      <td>12</td>\n    </tr>\n    <tr>\n      <th>黑龙江</th>\n      <td>38</td>\n    </tr>\n  </tbody>\n</table>\n</div>",
      "text/plain": "      省公司数量\narea       \n上海      305\n云南       36\n内蒙       25\n北京      348\n吉林       42\n四川      125\n天津       54\n宁夏       14\n安徽      107\n山东      209\n山西       37\n广东      323\n广西       38\n新疆       55\n江苏      429\n江西       43\n河北       57\n河南       80\n浙江      464\n海南       31\n深圳      302\n湖北      108\n湖南      106\n甘肃       33\n福建      141\n西藏       19\n贵州       29\n辽宁       73\n重庆       53\n陕西       53\n青海       12\n黑龙江      38"
     },
     "execution_count": 7,
     "metadata": {},
     "output_type": "execute_result"
    }
   ],
   "source": [
    "area_company_count = df.groupby('area')['name'].agg([('省公司数量', 'count')])\n",
    "area_company_count"
   ]
  },
  {
   "cell_type": "code",
   "execution_count": 13,
   "metadata": {},
   "outputs": [
    {
     "data": {
      "application/javascript": "new Promise(function(resolve, reject) {\n    var script = document.createElement(\"script\");\n    script.onload = resolve;\n    script.onerror = reject;\n    script.src = \"https://assets.pyecharts.org/assets/echarts.min.js\";\n    document.head.appendChild(script);\n}).then(() => {\nnew Promise(function(resolve, reject) {\n    var script = document.createElement(\"script\");\n    script.onload = resolve;\n    script.onerror = reject;\n    script.src = \"https://assets.pyecharts.org/assets/maps/china.js\";\n    document.head.appendChild(script);\n}).then(() => {\n\n});\n});",
      "text/plain": "<pyecharts.render.display.Javascript at 0x247af653cc0>"
     },
     "execution_count": 13,
     "metadata": {},
     "output_type": "execute_result"
    }
   ],
   "source": [
    "provinces = area_company_count.index.values.tolist()\n",
    "counts = area_company_count['省公司数量'].values.tolist()\n",
    "map_2 = Map()\n",
    "map_2.set_global_opts(title_opts=opts.TitleOpts(title=\"各省份的公司数量\"))\n",
    "map_2.add(\"各省份的公司数量\", zip(provinces, counts), maptype=\"china\")\n",
    "map_2.load_javascript()"
   ]
  },
  {
   "cell_type": "code",
   "execution_count": 14,
   "metadata": {},
   "outputs": [
    {
     "data": {
      "text/html": "<!DOCTYPE html>\n<html>\n<head>\n    <meta charset=\"UTF-8\">\n</head>\n<body>\n        <div id=\"2e8c002184b34e4681c71b5e6da5dd2f\" class=\"chart-container\" style=\"width:900px; height:500px;\"></div>\n    <script>\n        var chart_2e8c002184b34e4681c71b5e6da5dd2f = echarts.init(\n            document.getElementById('2e8c002184b34e4681c71b5e6da5dd2f'), 'white', {renderer: 'canvas'});\n        var option_2e8c002184b34e4681c71b5e6da5dd2f = {\n    \"animation\": true,\n    \"animationThreshold\": 2000,\n    \"animationDuration\": 1000,\n    \"animationEasing\": \"cubicOut\",\n    \"animationDelay\": 0,\n    \"animationDurationUpdate\": 300,\n    \"animationEasingUpdate\": \"cubicOut\",\n    \"animationDelayUpdate\": 0,\n    \"color\": [\n        \"#c23531\",\n        \"#2f4554\",\n        \"#61a0a8\",\n        \"#d48265\",\n        \"#749f83\",\n        \"#ca8622\",\n        \"#bda29a\",\n        \"#6e7074\",\n        \"#546570\",\n        \"#c4ccd3\",\n        \"#f05b72\",\n        \"#ef5b9c\",\n        \"#f47920\",\n        \"#905a3d\",\n        \"#fab27b\",\n        \"#2a5caa\",\n        \"#444693\",\n        \"#726930\",\n        \"#b2d235\",\n        \"#6d8346\",\n        \"#ac6767\",\n        \"#1d953f\",\n        \"#6950a1\",\n        \"#918597\"\n    ],\n    \"series\": [\n        {\n            \"type\": \"map\",\n            \"name\": \"\\u5404\\u7701\\u4efd\\u7684\\u516c\\u53f8\\u6570\\u91cf\",\n            \"label\": {\n                \"show\": true,\n                \"position\": \"top\",\n                \"margin\": 8\n            },\n            \"mapType\": \"china\",\n            \"data\": [\n                {\n                    \"name\": \"\\u4e0a\\u6d77\",\n                    \"value\": 305\n                },\n                {\n                    \"name\": \"\\u4e91\\u5357\",\n                    \"value\": 36\n                },\n                {\n                    \"name\": \"\\u5185\\u8499\",\n                    \"value\": 25\n                },\n                {\n                    \"name\": \"\\u5317\\u4eac\",\n                    \"value\": 348\n                },\n                {\n                    \"name\": \"\\u5409\\u6797\",\n                    \"value\": 42\n                },\n                {\n                    \"name\": \"\\u56db\\u5ddd\",\n                    \"value\": 125\n                },\n                {\n                    \"name\": \"\\u5929\\u6d25\",\n                    \"value\": 54\n                },\n                {\n                    \"name\": \"\\u5b81\\u590f\",\n                    \"value\": 14\n                },\n                {\n                    \"name\": \"\\u5b89\\u5fbd\",\n                    \"value\": 107\n                },\n                {\n                    \"name\": \"\\u5c71\\u4e1c\",\n                    \"value\": 209\n                },\n                {\n                    \"name\": \"\\u5c71\\u897f\",\n                    \"value\": 37\n                },\n                {\n                    \"name\": \"\\u5e7f\\u4e1c\",\n                    \"value\": 323\n                },\n                {\n                    \"name\": \"\\u5e7f\\u897f\",\n                    \"value\": 38\n                },\n                {\n                    \"name\": \"\\u65b0\\u7586\",\n                    \"value\": 55\n                },\n                {\n                    \"name\": \"\\u6c5f\\u82cf\",\n                    \"value\": 429\n                },\n                {\n                    \"name\": \"\\u6c5f\\u897f\",\n                    \"value\": 43\n                },\n                {\n                    \"name\": \"\\u6cb3\\u5317\",\n                    \"value\": 57\n                },\n                {\n                    \"name\": \"\\u6cb3\\u5357\",\n                    \"value\": 80\n                },\n                {\n                    \"name\": \"\\u6d59\\u6c5f\",\n                    \"value\": 464\n                },\n                {\n                    \"name\": \"\\u6d77\\u5357\",\n                    \"value\": 31\n                },\n                {\n                    \"name\": \"\\u6df1\\u5733\",\n                    \"value\": 302\n                },\n                {\n                    \"name\": \"\\u6e56\\u5317\",\n                    \"value\": 108\n                },\n                {\n                    \"name\": \"\\u6e56\\u5357\",\n                    \"value\": 106\n                },\n                {\n                    \"name\": \"\\u7518\\u8083\",\n                    \"value\": 33\n                },\n                {\n                    \"name\": \"\\u798f\\u5efa\",\n                    \"value\": 141\n                },\n                {\n                    \"name\": \"\\u897f\\u85cf\",\n                    \"value\": 19\n                },\n                {\n                    \"name\": \"\\u8d35\\u5dde\",\n                    \"value\": 29\n                },\n                {\n                    \"name\": \"\\u8fbd\\u5b81\",\n                    \"value\": 73\n                },\n                {\n                    \"name\": \"\\u91cd\\u5e86\",\n                    \"value\": 53\n                },\n                {\n                    \"name\": \"\\u9655\\u897f\",\n                    \"value\": 53\n                },\n                {\n                    \"name\": \"\\u9752\\u6d77\",\n                    \"value\": 12\n                },\n                {\n                    \"name\": \"\\u9ed1\\u9f99\\u6c5f\",\n                    \"value\": 38\n                }\n            ],\n            \"roam\": true,\n            \"zoom\": 1,\n            \"showLegendSymbol\": true,\n            \"emphasis\": {}\n        }\n    ],\n    \"legend\": [\n        {\n            \"data\": [\n                \"\\u5404\\u7701\\u4efd\\u7684\\u516c\\u53f8\\u6570\\u91cf\"\n            ],\n            \"selected\": {\n                \"\\u5404\\u7701\\u4efd\\u7684\\u516c\\u53f8\\u6570\\u91cf\": true\n            },\n            \"show\": true,\n            \"padding\": 5,\n            \"itemGap\": 10,\n            \"itemWidth\": 25,\n            \"itemHeight\": 14\n        }\n    ],\n    \"tooltip\": {\n        \"show\": true,\n        \"trigger\": \"item\",\n        \"triggerOn\": \"mousemove|click\",\n        \"axisPointer\": {\n            \"type\": \"line\"\n        },\n        \"textStyle\": {\n            \"fontSize\": 14\n        },\n        \"borderWidth\": 0\n    },\n    \"title\": [\n        {\n            \"text\": \"\\u5404\\u7701\\u4efd\\u7684\\u516c\\u53f8\\u6570\\u91cf\",\n            \"padding\": 5,\n            \"itemGap\": 10\n        }\n    ]\n};\n        chart_2e8c002184b34e4681c71b5e6da5dd2f.setOption(option_2e8c002184b34e4681c71b5e6da5dd2f);\n    </script>\n</body>\n</html>\n",
      "text/plain": "<pyecharts.render.display.HTML at 0x247af660ba8>"
     },
     "execution_count": 14,
     "metadata": {},
     "output_type": "execute_result"
    }
   ],
   "source": [
    "map_2.render_notebook()"
   ]
  },
  {
   "cell_type": "code",
   "execution_count": null,
   "metadata": {},
   "outputs": [],
   "source": []
  }
 ]
}