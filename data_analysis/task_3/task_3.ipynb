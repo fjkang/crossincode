{
 "nbformat": 4,
 "nbformat_minor": 2,
 "metadata": {
  "language_info": {
   "name": "python",
   "codemirror_mode": {
    "name": "ipython",
    "version": 3
   },
   "version": "3.7.2-final"
  },
  "orig_nbformat": 2,
  "file_extension": ".py",
  "mimetype": "text/x-python",
  "name": "python",
  "npconvert_exporter": "python",
  "pygments_lexer": "ipython3",
  "version": 3,
  "kernelspec": {
   "name": "python37264bitpandaspipenvfd6d917ada63417297b661f10300e4d1",
   "display_name": "Python 3.7.2 64-bit ('pandas': pipenv)"
  }
 },
 "cells": [
  {
   "cell_type": "code",
   "execution_count": 1,
   "metadata": {},
   "outputs": [],
   "source": [
    "import pandas as pd\n",
    "import numpy as np\n",
    "import matplotlib.pyplot as plt\n",
    "import pylab\n",
    "pylab.mpl.rcParams['font.sans-serif'] = ['SimHei'] #支持中文"
   ]
  },
  {
   "cell_type": "markdown",
   "metadata": {},
   "source": [
    "1.结合 numpy 创建一个 (3, 10) 区间内的包含 5 个随机整数的一维数组 ndarray 为 data1，并以此 data 再创建索引为 a, b, c, d, e 的 Series 为 s1（任务提示：利用 np.random.randint() 创建随机矩阵。阅读参考文章①②）"
   ]
  },
  {
   "cell_type": "code",
   "execution_count": 2,
   "metadata": {},
   "outputs": [
    {
     "output_type": "execute_result",
     "data": {
      "text/plain": "array([5, 9, 8, 8, 5])"
     },
     "metadata": {},
     "execution_count": 2
    }
   ],
   "source": [
    "data1 = np.random.randint(3,10,size=5)\n",
    "data1"
   ]
  },
  {
   "cell_type": "code",
   "execution_count": 3,
   "metadata": {},
   "outputs": [
    {
     "output_type": "execute_result",
     "data": {
      "text/plain": "a    5\nb    9\nc    8\nd    8\ne    5\ndtype: int32"
     },
     "metadata": {},
     "execution_count": 3
    }
   ],
   "source": [
    "s1 = pd.Series(data1,index=(\"a\",\"b\",\"c\",\"d\",\"e\"))\n",
    "s1"
   ]
  },
  {
   "cell_type": "markdown",
   "metadata": {},
   "source": [
    "2.请分别用位置索引和标签索引的方式提取是 s1 的后三个数（阅读参考文章③）"
   ]
  },
  {
   "cell_type": "code",
   "execution_count": 4,
   "metadata": {},
   "outputs": [
    {
     "output_type": "execute_result",
     "data": {
      "text/plain": "c    8\nd    8\ne    5\ndtype: int32"
     },
     "metadata": {},
     "execution_count": 4
    }
   ],
   "source": [
    "i_s1_last3 = s1[-3:]\n",
    "i_s1_last3"
   ]
  },
  {
   "cell_type": "code",
   "execution_count": 5,
   "metadata": {},
   "outputs": [
    {
     "output_type": "execute_result",
     "data": {
      "text/plain": "c    8\nd    8\ne    5\ndtype: int32"
     },
     "metadata": {},
     "execution_count": 5
    }
   ],
   "source": [
    "l_s1_last3 = s1[\"c\":]\n",
    "l_s1_last3"
   ]
  },
  {
   "cell_type": "markdown",
   "metadata": {},
   "source": [
    "3.请用字典的形式创建一个DataFrame，将下方表格数据存储进去 （任务提示：创建 DataFrame 有多种方式，本题以字典形式创建。阅读参考文章④）"
   ]
  },
  {
   "cell_type": "code",
   "execution_count": 6,
   "metadata": {},
   "outputs": [
    {
     "output_type": "execute_result",
     "data": {
      "text/plain": "   year  price\n0  2017     10\n1  2018     20\n2  2019     30",
      "text/html": "<div>\n<style scoped>\n    .dataframe tbody tr th:only-of-type {\n        vertical-align: middle;\n    }\n\n    .dataframe tbody tr th {\n        vertical-align: top;\n    }\n\n    .dataframe thead th {\n        text-align: right;\n    }\n</style>\n<table border=\"1\" class=\"dataframe\">\n  <thead>\n    <tr style=\"text-align: right;\">\n      <th></th>\n      <th>year</th>\n      <th>price</th>\n    </tr>\n  </thead>\n  <tbody>\n    <tr>\n      <th>0</th>\n      <td>2017</td>\n      <td>10</td>\n    </tr>\n    <tr>\n      <th>1</th>\n      <td>2018</td>\n      <td>20</td>\n    </tr>\n    <tr>\n      <th>2</th>\n      <td>2019</td>\n      <td>30</td>\n    </tr>\n  </tbody>\n</table>\n</div>"
     },
     "metadata": {},
     "execution_count": 6
    }
   ],
   "source": [
    "data_dict_list = [\n",
    "    {\n",
    "        \"year\":2017,\n",
    "        \"price\":10\n",
    "    },\n",
    "    {\n",
    "        \"year\":2018,\n",
    "        \"price\":20\n",
    "    },\n",
    "    {\n",
    "        \"year\":2019,\n",
    "        \"price\":30\n",
    "    },\n",
    "]\n",
    "df = pd.DataFrame(data_dict_list)\n",
    "df"
   ]
  },
  {
   "cell_type": "markdown",
   "metadata": {},
   "source": [
    "4.结合 numpy 创建一个 (5, 15) 区间内，形状为 5 行 3 列的随机整数数组为 data2，并以此为基础创建 index 为 \\['a', 'c', 'e', 'f', 'h'\\]，columns 为 \\['one', 'two', 'three'\\] 的 DataFrame，并命名为 df_test（阅读参考文章④）"
   ]
  },
  {
   "cell_type": "code",
   "execution_count": 7,
   "metadata": {},
   "outputs": [
    {
     "output_type": "execute_result",
     "data": {
      "text/plain": "array([[12,  9, 13],\n       [14,  9,  9],\n       [ 9,  5, 10],\n       [10,  8, 12],\n       [ 7,  7, 13]])"
     },
     "metadata": {},
     "execution_count": 7
    }
   ],
   "source": [
    "data2 = np.random.randint(5,15,size=(5,3))\n",
    "data2"
   ]
  },
  {
   "cell_type": "code",
   "execution_count": 8,
   "metadata": {},
   "outputs": [
    {
     "output_type": "execute_result",
     "data": {
      "text/plain": "   one  two  three\na   12    9     13\nc   14    9      9\ne    9    5     10\nf   10    8     12\nh    7    7     13",
      "text/html": "<div>\n<style scoped>\n    .dataframe tbody tr th:only-of-type {\n        vertical-align: middle;\n    }\n\n    .dataframe tbody tr th {\n        vertical-align: top;\n    }\n\n    .dataframe thead th {\n        text-align: right;\n    }\n</style>\n<table border=\"1\" class=\"dataframe\">\n  <thead>\n    <tr style=\"text-align: right;\">\n      <th></th>\n      <th>one</th>\n      <th>two</th>\n      <th>three</th>\n    </tr>\n  </thead>\n  <tbody>\n    <tr>\n      <th>a</th>\n      <td>12</td>\n      <td>9</td>\n      <td>13</td>\n    </tr>\n    <tr>\n      <th>c</th>\n      <td>14</td>\n      <td>9</td>\n      <td>9</td>\n    </tr>\n    <tr>\n      <th>e</th>\n      <td>9</td>\n      <td>5</td>\n      <td>10</td>\n    </tr>\n    <tr>\n      <th>f</th>\n      <td>10</td>\n      <td>8</td>\n      <td>12</td>\n    </tr>\n    <tr>\n      <th>h</th>\n      <td>7</td>\n      <td>7</td>\n      <td>13</td>\n    </tr>\n  </tbody>\n</table>\n</div>"
     },
     "metadata": {},
     "execution_count": 8
    }
   ],
   "source": [
    "df_test = pd.DataFrame(data2, index=['a', 'c', 'e', 'f', 'h'], columns=['one', 'two', 'three'])\n",
    "df_test"
   ]
  },
  {
   "cell_type": "markdown",
   "metadata": {},
   "source": [
    "5.运用 loc 索引以及替换的知识，按下列要求对 df_test 进行增、改、替操作。完成上述要求后，将该数据命名为 df_change（任务提示：一般用 df.loc\\[行，列\\] = ？ 做替换。阅读参考文章⑤⑥）\n",
    "\n",
    "(1) 将 a 行 one 列处替换成空值\n",
    "\n",
    "(2) 将 c 行 two 列处替换成 -99\n",
    "\n",
    "(3) 将 c 行 three 列处替换成 -99\n",
    "\n",
    "(4) 将 a 行 two 列处替换成 -100\n",
    "\n",
    "(5) 新增 four 列，值为 test\n",
    "\n",
    "(6) 重置索引为 \\['a', 'b', 'c', 'd', 'e', 'f', 'g', 'h'\\]"
   ]
  },
  {
   "cell_type": "code",
   "execution_count": 9,
   "metadata": {},
   "outputs": [
    {
     "output_type": "execute_result",
     "data": {
      "text/plain": "    one    two  three  four\na   NaN -100.0   13.0  test\nb   NaN    NaN    NaN   NaN\nc  14.0  -99.0  -99.0  test\nd   NaN    NaN    NaN   NaN\ne   9.0    5.0   10.0  test\nf  10.0    8.0   12.0  test\ng   NaN    NaN    NaN   NaN\nh   7.0    7.0   13.0  test",
      "text/html": "<div>\n<style scoped>\n    .dataframe tbody tr th:only-of-type {\n        vertical-align: middle;\n    }\n\n    .dataframe tbody tr th {\n        vertical-align: top;\n    }\n\n    .dataframe thead th {\n        text-align: right;\n    }\n</style>\n<table border=\"1\" class=\"dataframe\">\n  <thead>\n    <tr style=\"text-align: right;\">\n      <th></th>\n      <th>one</th>\n      <th>two</th>\n      <th>three</th>\n      <th>four</th>\n    </tr>\n  </thead>\n  <tbody>\n    <tr>\n      <th>a</th>\n      <td>NaN</td>\n      <td>-100.0</td>\n      <td>13.0</td>\n      <td>test</td>\n    </tr>\n    <tr>\n      <th>b</th>\n      <td>NaN</td>\n      <td>NaN</td>\n      <td>NaN</td>\n      <td>NaN</td>\n    </tr>\n    <tr>\n      <th>c</th>\n      <td>14.0</td>\n      <td>-99.0</td>\n      <td>-99.0</td>\n      <td>test</td>\n    </tr>\n    <tr>\n      <th>d</th>\n      <td>NaN</td>\n      <td>NaN</td>\n      <td>NaN</td>\n      <td>NaN</td>\n    </tr>\n    <tr>\n      <th>e</th>\n      <td>9.0</td>\n      <td>5.0</td>\n      <td>10.0</td>\n      <td>test</td>\n    </tr>\n    <tr>\n      <th>f</th>\n      <td>10.0</td>\n      <td>8.0</td>\n      <td>12.0</td>\n      <td>test</td>\n    </tr>\n    <tr>\n      <th>g</th>\n      <td>NaN</td>\n      <td>NaN</td>\n      <td>NaN</td>\n      <td>NaN</td>\n    </tr>\n    <tr>\n      <th>h</th>\n      <td>7.0</td>\n      <td>7.0</td>\n      <td>13.0</td>\n      <td>test</td>\n    </tr>\n  </tbody>\n</table>\n</div>"
     },
     "metadata": {},
     "execution_count": 9
    }
   ],
   "source": [
    "df_change = pd.DataFrame.copy(df_test)\n",
    "df_change.iloc[0, 0] = None\n",
    "df_change.loc['c', 'two':'three'] = -99\n",
    "df_change.at['a', 'two'] = -100\n",
    "df_change['four'] = \"test\"\n",
    "df_change = df_change.reindex(['a', 'b', 'c', 'd', 'e', 'f', 'g', 'h'])\n",
    "df_change"
   ]
  },
  {
   "cell_type": "markdown",
   "metadata": {},
   "source": [
    "6.删除 df_change 中存在缺失值的所有行（阅读参考文章⑦）"
   ]
  },
  {
   "cell_type": "code",
   "execution_count": 10,
   "metadata": {},
   "outputs": [
    {
     "output_type": "execute_result",
     "data": {
      "text/plain": "    one   two  three  four\nc  14.0 -99.0  -99.0  test\ne   9.0   5.0   10.0  test\nf  10.0   8.0   12.0  test\nh   7.0   7.0   13.0  test",
      "text/html": "<div>\n<style scoped>\n    .dataframe tbody tr th:only-of-type {\n        vertical-align: middle;\n    }\n\n    .dataframe tbody tr th {\n        vertical-align: top;\n    }\n\n    .dataframe thead th {\n        text-align: right;\n    }\n</style>\n<table border=\"1\" class=\"dataframe\">\n  <thead>\n    <tr style=\"text-align: right;\">\n      <th></th>\n      <th>one</th>\n      <th>two</th>\n      <th>three</th>\n      <th>four</th>\n    </tr>\n  </thead>\n  <tbody>\n    <tr>\n      <th>c</th>\n      <td>14.0</td>\n      <td>-99.0</td>\n      <td>-99.0</td>\n      <td>test</td>\n    </tr>\n    <tr>\n      <th>e</th>\n      <td>9.0</td>\n      <td>5.0</td>\n      <td>10.0</td>\n      <td>test</td>\n    </tr>\n    <tr>\n      <th>f</th>\n      <td>10.0</td>\n      <td>8.0</td>\n      <td>12.0</td>\n      <td>test</td>\n    </tr>\n    <tr>\n      <th>h</th>\n      <td>7.0</td>\n      <td>7.0</td>\n      <td>13.0</td>\n      <td>test</td>\n    </tr>\n  </tbody>\n</table>\n</div>"
     },
     "metadata": {},
     "execution_count": 10
    }
   ],
   "source": [
    "df_change.dropna()"
   ]
  },
  {
   "cell_type": "markdown",
   "metadata": {},
   "source": [
    "7.删除 df_change 中所有值都为 NaN 值的行（阅读参考文章⑦）"
   ]
  },
  {
   "cell_type": "code",
   "execution_count": 11,
   "metadata": {},
   "outputs": [
    {
     "output_type": "execute_result",
     "data": {
      "text/plain": "    one    two  three  four\na   NaN -100.0   13.0  test\nc  14.0  -99.0  -99.0  test\ne   9.0    5.0   10.0  test\nf  10.0    8.0   12.0  test\nh   7.0    7.0   13.0  test",
      "text/html": "<div>\n<style scoped>\n    .dataframe tbody tr th:only-of-type {\n        vertical-align: middle;\n    }\n\n    .dataframe tbody tr th {\n        vertical-align: top;\n    }\n\n    .dataframe thead th {\n        text-align: right;\n    }\n</style>\n<table border=\"1\" class=\"dataframe\">\n  <thead>\n    <tr style=\"text-align: right;\">\n      <th></th>\n      <th>one</th>\n      <th>two</th>\n      <th>three</th>\n      <th>four</th>\n    </tr>\n  </thead>\n  <tbody>\n    <tr>\n      <th>a</th>\n      <td>NaN</td>\n      <td>-100.0</td>\n      <td>13.0</td>\n      <td>test</td>\n    </tr>\n    <tr>\n      <th>c</th>\n      <td>14.0</td>\n      <td>-99.0</td>\n      <td>-99.0</td>\n      <td>test</td>\n    </tr>\n    <tr>\n      <th>e</th>\n      <td>9.0</td>\n      <td>5.0</td>\n      <td>10.0</td>\n      <td>test</td>\n    </tr>\n    <tr>\n      <th>f</th>\n      <td>10.0</td>\n      <td>8.0</td>\n      <td>12.0</td>\n      <td>test</td>\n    </tr>\n    <tr>\n      <th>h</th>\n      <td>7.0</td>\n      <td>7.0</td>\n      <td>13.0</td>\n      <td>test</td>\n    </tr>\n  </tbody>\n</table>\n</div>"
     },
     "metadata": {},
     "execution_count": 11
    }
   ],
   "source": [
    "df_change.dropna(how=\"all\")"
   ]
  },
  {
   "cell_type": "markdown",
   "metadata": {},
   "source": [
    "8.df_change 中的所有缺失值（即 NaN）以 0 填充（阅读参考文章⑦）"
   ]
  },
  {
   "cell_type": "code",
   "execution_count": 12,
   "metadata": {},
   "outputs": [
    {
     "output_type": "execute_result",
     "data": {
      "text/plain": "    one    two  three  four\na   0.0 -100.0   13.0  test\nb   0.0    0.0    0.0     0\nc  14.0  -99.0  -99.0  test\nd   0.0    0.0    0.0     0\ne   9.0    5.0   10.0  test\nf  10.0    8.0   12.0  test\ng   0.0    0.0    0.0     0\nh   7.0    7.0   13.0  test",
      "text/html": "<div>\n<style scoped>\n    .dataframe tbody tr th:only-of-type {\n        vertical-align: middle;\n    }\n\n    .dataframe tbody tr th {\n        vertical-align: top;\n    }\n\n    .dataframe thead th {\n        text-align: right;\n    }\n</style>\n<table border=\"1\" class=\"dataframe\">\n  <thead>\n    <tr style=\"text-align: right;\">\n      <th></th>\n      <th>one</th>\n      <th>two</th>\n      <th>three</th>\n      <th>four</th>\n    </tr>\n  </thead>\n  <tbody>\n    <tr>\n      <th>a</th>\n      <td>0.0</td>\n      <td>-100.0</td>\n      <td>13.0</td>\n      <td>test</td>\n    </tr>\n    <tr>\n      <th>b</th>\n      <td>0.0</td>\n      <td>0.0</td>\n      <td>0.0</td>\n      <td>0</td>\n    </tr>\n    <tr>\n      <th>c</th>\n      <td>14.0</td>\n      <td>-99.0</td>\n      <td>-99.0</td>\n      <td>test</td>\n    </tr>\n    <tr>\n      <th>d</th>\n      <td>0.0</td>\n      <td>0.0</td>\n      <td>0.0</td>\n      <td>0</td>\n    </tr>\n    <tr>\n      <th>e</th>\n      <td>9.0</td>\n      <td>5.0</td>\n      <td>10.0</td>\n      <td>test</td>\n    </tr>\n    <tr>\n      <th>f</th>\n      <td>10.0</td>\n      <td>8.0</td>\n      <td>12.0</td>\n      <td>test</td>\n    </tr>\n    <tr>\n      <th>g</th>\n      <td>0.0</td>\n      <td>0.0</td>\n      <td>0.0</td>\n      <td>0</td>\n    </tr>\n    <tr>\n      <th>h</th>\n      <td>7.0</td>\n      <td>7.0</td>\n      <td>13.0</td>\n      <td>test</td>\n    </tr>\n  </tbody>\n</table>\n</div>"
     },
     "metadata": {},
     "execution_count": 12
    }
   ],
   "source": [
    "df_change.fillna(0)"
   ]
  },
  {
   "cell_type": "markdown",
   "metadata": {},
   "source": [
    "9.删除 df_change中的重复行（阅读参考文章⑧）"
   ]
  },
  {
   "cell_type": "code",
   "execution_count": 13,
   "metadata": {},
   "outputs": [
    {
     "output_type": "execute_result",
     "data": {
      "text/plain": "    one    two  three  four\na   NaN -100.0   13.0  test\nb   NaN    NaN    NaN   NaN\nc  14.0  -99.0  -99.0  test\ne   9.0    5.0   10.0  test\nf  10.0    8.0   12.0  test\nh   7.0    7.0   13.0  test",
      "text/html": "<div>\n<style scoped>\n    .dataframe tbody tr th:only-of-type {\n        vertical-align: middle;\n    }\n\n    .dataframe tbody tr th {\n        vertical-align: top;\n    }\n\n    .dataframe thead th {\n        text-align: right;\n    }\n</style>\n<table border=\"1\" class=\"dataframe\">\n  <thead>\n    <tr style=\"text-align: right;\">\n      <th></th>\n      <th>one</th>\n      <th>two</th>\n      <th>three</th>\n      <th>four</th>\n    </tr>\n  </thead>\n  <tbody>\n    <tr>\n      <th>a</th>\n      <td>NaN</td>\n      <td>-100.0</td>\n      <td>13.0</td>\n      <td>test</td>\n    </tr>\n    <tr>\n      <th>b</th>\n      <td>NaN</td>\n      <td>NaN</td>\n      <td>NaN</td>\n      <td>NaN</td>\n    </tr>\n    <tr>\n      <th>c</th>\n      <td>14.0</td>\n      <td>-99.0</td>\n      <td>-99.0</td>\n      <td>test</td>\n    </tr>\n    <tr>\n      <th>e</th>\n      <td>9.0</td>\n      <td>5.0</td>\n      <td>10.0</td>\n      <td>test</td>\n    </tr>\n    <tr>\n      <th>f</th>\n      <td>10.0</td>\n      <td>8.0</td>\n      <td>12.0</td>\n      <td>test</td>\n    </tr>\n    <tr>\n      <th>h</th>\n      <td>7.0</td>\n      <td>7.0</td>\n      <td>13.0</td>\n      <td>test</td>\n    </tr>\n  </tbody>\n</table>\n</div>"
     },
     "metadata": {},
     "execution_count": 13
    }
   ],
   "source": [
    "df_change.drop_duplicates()"
   ]
  },
  {
   "cell_type": "code",
   "execution_count": null,
   "metadata": {},
   "outputs": [],
   "source": []
  }
 ]
}