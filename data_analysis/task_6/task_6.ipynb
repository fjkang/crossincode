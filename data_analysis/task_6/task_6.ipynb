{
 "cells": [
  {
   "cell_type": "code",
   "execution_count": 1,
   "metadata": {},
   "outputs": [],
   "source": [
    "import pandas as pd\n",
    "import numpy as np\n",
    "import matplotlib.pyplot as plt\n",
    "import pylab\n",
    "pylab.mpl.rcParams['font.sans-serif'] = ['SimHei'] #支持中文"
   ]
  },
  {
   "cell_type": "markdown",
   "metadata": {},
   "source": [
    "以下是某有限责任公司一组销售数据，请利用pandas数据透视表相关知识按要求进行统计分析\n",
    "![](https://cdn.py2china.cn/study-group/pandas/6-1.png)  \n",
    "1.将上方数据表建立 DataFrame 进行存储（阅读参考文章①）"
   ]
  },
  {
   "cell_type": "code",
   "execution_count": 2,
   "metadata": {},
   "outputs": [
    {
     "output_type": "execute_result",
     "data": {
      "text/plain": "      id        date goods  sales\n0   1001  2010-01-01     A   3000\n1   1001  2010-01-01     B   2000\n2   1002  2010-01-01     A   3000\n3   1003  2010-01-01     B   2000\n4   1001  2010-01-02     A   3000\n5   1002  2010-01-02     A   3000\n6   1002  2010-01-02     B   2000\n7   1003  2010-01-02     A   3000\n8   1001  2010-01-03     A   3000\n9   1002  2010-01-03     B   2000\n10  1001  2010-01-04     A   3000\n11  1002  2010-01-04     A   3000",
      "text/html": "<div>\n<style scoped>\n    .dataframe tbody tr th:only-of-type {\n        vertical-align: middle;\n    }\n\n    .dataframe tbody tr th {\n        vertical-align: top;\n    }\n\n    .dataframe thead th {\n        text-align: right;\n    }\n</style>\n<table border=\"1\" class=\"dataframe\">\n  <thead>\n    <tr style=\"text-align: right;\">\n      <th></th>\n      <th>id</th>\n      <th>date</th>\n      <th>goods</th>\n      <th>sales</th>\n    </tr>\n  </thead>\n  <tbody>\n    <tr>\n      <th>0</th>\n      <td>1001</td>\n      <td>2010-01-01</td>\n      <td>A</td>\n      <td>3000</td>\n    </tr>\n    <tr>\n      <th>1</th>\n      <td>1001</td>\n      <td>2010-01-01</td>\n      <td>B</td>\n      <td>2000</td>\n    </tr>\n    <tr>\n      <th>2</th>\n      <td>1002</td>\n      <td>2010-01-01</td>\n      <td>A</td>\n      <td>3000</td>\n    </tr>\n    <tr>\n      <th>3</th>\n      <td>1003</td>\n      <td>2010-01-01</td>\n      <td>B</td>\n      <td>2000</td>\n    </tr>\n    <tr>\n      <th>4</th>\n      <td>1001</td>\n      <td>2010-01-02</td>\n      <td>A</td>\n      <td>3000</td>\n    </tr>\n    <tr>\n      <th>5</th>\n      <td>1002</td>\n      <td>2010-01-02</td>\n      <td>A</td>\n      <td>3000</td>\n    </tr>\n    <tr>\n      <th>6</th>\n      <td>1002</td>\n      <td>2010-01-02</td>\n      <td>B</td>\n      <td>2000</td>\n    </tr>\n    <tr>\n      <th>7</th>\n      <td>1003</td>\n      <td>2010-01-02</td>\n      <td>A</td>\n      <td>3000</td>\n    </tr>\n    <tr>\n      <th>8</th>\n      <td>1001</td>\n      <td>2010-01-03</td>\n      <td>A</td>\n      <td>3000</td>\n    </tr>\n    <tr>\n      <th>9</th>\n      <td>1002</td>\n      <td>2010-01-03</td>\n      <td>B</td>\n      <td>2000</td>\n    </tr>\n    <tr>\n      <th>10</th>\n      <td>1001</td>\n      <td>2010-01-04</td>\n      <td>A</td>\n      <td>3000</td>\n    </tr>\n    <tr>\n      <th>11</th>\n      <td>1002</td>\n      <td>2010-01-04</td>\n      <td>A</td>\n      <td>3000</td>\n    </tr>\n  </tbody>\n</table>\n</div>"
     },
     "metadata": {},
     "execution_count": 2
    }
   ],
   "source": [
    "df_sale = pd.DataFrame(data={\n",
    "    \"id\":[1001,1001,1002,1003,1001,1002,1002,1003,1001,1002,1001,1002],         \"date\":[\"2010-01-01\",\"2010-01-01\",\"2010-01-01\",\"2010-01-01\",                    \"2010-01-02\",\"2010-01-02\",\"2010-01-02\",\"2010-01-02\",\"2010-01-03\",           \"2010-01-03\",\"2010-01-04\",\"2010-01-04\"],\n",
    "    \"goods\":[\"A\",\"B\",\"A\",\"B\",\"A\",\"A\",\"B\",\"A\",\"A\",\"B\",\"A\",\"A\"],\n",
    "    \"sales\":[3000,2000,3000,2000,3000,3000,2000,3000,3000,2000,3000,3000]\n",
    "    })\n",
    "df_sale"
   ]
  },
  {
   "cell_type": "markdown",
   "metadata": {},
   "source": [
    "2.利用 pivot_table 统计该企业每个人每天销售商品 A 和 B 的金额之和（阅读参考文章②④⑤）"
   ]
  },
  {
   "cell_type": "code",
   "execution_count": 3,
   "metadata": {},
   "outputs": [
    {
     "output_type": "execute_result",
     "data": {
      "text/plain": "            sum                                 \n          sales                                 \ndate 2010-01-01 2010-01-02 2010-01-03 2010-01-04\nid                                              \n1001     5000.0     3000.0     3000.0     3000.0\n1002     3000.0     5000.0     2000.0     3000.0\n1003     2000.0     3000.0        NaN        NaN",
      "text/html": "<div>\n<style scoped>\n    .dataframe tbody tr th:only-of-type {\n        vertical-align: middle;\n    }\n\n    .dataframe tbody tr th {\n        vertical-align: top;\n    }\n\n    .dataframe thead tr th {\n        text-align: left;\n    }\n\n    .dataframe thead tr:last-of-type th {\n        text-align: right;\n    }\n</style>\n<table border=\"1\" class=\"dataframe\">\n  <thead>\n    <tr>\n      <th></th>\n      <th colspan=\"4\" halign=\"left\">sum</th>\n    </tr>\n    <tr>\n      <th></th>\n      <th colspan=\"4\" halign=\"left\">sales</th>\n    </tr>\n    <tr>\n      <th>date</th>\n      <th>2010-01-01</th>\n      <th>2010-01-02</th>\n      <th>2010-01-03</th>\n      <th>2010-01-04</th>\n    </tr>\n    <tr>\n      <th>id</th>\n      <th></th>\n      <th></th>\n      <th></th>\n      <th></th>\n    </tr>\n  </thead>\n  <tbody>\n    <tr>\n      <th>1001</th>\n      <td>5000.0</td>\n      <td>3000.0</td>\n      <td>3000.0</td>\n      <td>3000.0</td>\n    </tr>\n    <tr>\n      <th>1002</th>\n      <td>3000.0</td>\n      <td>5000.0</td>\n      <td>2000.0</td>\n      <td>3000.0</td>\n    </tr>\n    <tr>\n      <th>1003</th>\n      <td>2000.0</td>\n      <td>3000.0</td>\n      <td>NaN</td>\n      <td>NaN</td>\n    </tr>\n  </tbody>\n</table>\n</div>"
     },
     "metadata": {},
     "execution_count": 3
    }
   ],
   "source": [
    "df_sale.pivot_table(values=[\"sales\"], columns=[\"date\"], index=[\"id\"],aggfunc=[\"sum\"])"
   ]
  },
  {
   "cell_type": "markdown",
   "metadata": {},
   "source": [
    "3.请将上面的统计数据再增加一列，统计出每个人的销售总金额（阅读参考文章②④⑤）"
   ]
  },
  {
   "cell_type": "code",
   "execution_count": 4,
   "metadata": {},
   "outputs": [
    {
     "output_type": "execute_result",
     "data": {
      "text/plain": "            sum                                        \n          sales                                        \ndate 2010-01-01 2010-01-02 2010-01-03 2010-01-04    All\nid                                                     \n1001     5000.0     3000.0     3000.0     3000.0  14000\n1002     3000.0     5000.0     2000.0     3000.0  13000\n1003     2000.0     3000.0        NaN        NaN   5000\nAll     10000.0    11000.0     5000.0     6000.0  32000",
      "text/html": "<div>\n<style scoped>\n    .dataframe tbody tr th:only-of-type {\n        vertical-align: middle;\n    }\n\n    .dataframe tbody tr th {\n        vertical-align: top;\n    }\n\n    .dataframe thead tr th {\n        text-align: left;\n    }\n\n    .dataframe thead tr:last-of-type th {\n        text-align: right;\n    }\n</style>\n<table border=\"1\" class=\"dataframe\">\n  <thead>\n    <tr>\n      <th></th>\n      <th colspan=\"5\" halign=\"left\">sum</th>\n    </tr>\n    <tr>\n      <th></th>\n      <th colspan=\"5\" halign=\"left\">sales</th>\n    </tr>\n    <tr>\n      <th>date</th>\n      <th>2010-01-01</th>\n      <th>2010-01-02</th>\n      <th>2010-01-03</th>\n      <th>2010-01-04</th>\n      <th>All</th>\n    </tr>\n    <tr>\n      <th>id</th>\n      <th></th>\n      <th></th>\n      <th></th>\n      <th></th>\n      <th></th>\n    </tr>\n  </thead>\n  <tbody>\n    <tr>\n      <th>1001</th>\n      <td>5000.0</td>\n      <td>3000.0</td>\n      <td>3000.0</td>\n      <td>3000.0</td>\n      <td>14000</td>\n    </tr>\n    <tr>\n      <th>1002</th>\n      <td>3000.0</td>\n      <td>5000.0</td>\n      <td>2000.0</td>\n      <td>3000.0</td>\n      <td>13000</td>\n    </tr>\n    <tr>\n      <th>1003</th>\n      <td>2000.0</td>\n      <td>3000.0</td>\n      <td>NaN</td>\n      <td>NaN</td>\n      <td>5000</td>\n    </tr>\n    <tr>\n      <th>All</th>\n      <td>10000.0</td>\n      <td>11000.0</td>\n      <td>5000.0</td>\n      <td>6000.0</td>\n      <td>32000</td>\n    </tr>\n  </tbody>\n</table>\n</div>"
     },
     "metadata": {},
     "execution_count": 4
    }
   ],
   "source": [
    "df_sale.pivot_table(values=[\"sales\"], columns=[\"date\"], index=[\"id\"],aggfunc=[\"sum\"], margins=True)"
   ]
  },
  {
   "cell_type": "markdown",
   "metadata": {},
   "source": [
    "以下为部分抽烟人群调查表，请将数据存储入 DataFrame，并完成以下操作\n",
    "![](https://cdn.py2china.cn/study-group/pandas/6-2.png)  \n",
    "4.请将以上数据存入 DataFrame 中（阅读参考文章①）"
   ]
  },
  {
   "cell_type": "code",
   "execution_count": 5,
   "metadata": {},
   "outputs": [
    {
     "output_type": "execute_result",
     "data": {
      "text/plain": "     sex  age  smoke  height\n0    man   15   True     168\n1    man   23  False     179\n2  woman   25  False     181\n3  woman   17   True     166\n4    man   35   True     173\n5  woman   57  False     178\n6    man   24  False     188\n7  woman   31   True     190\n8  woman   22  False     160",
      "text/html": "<div>\n<style scoped>\n    .dataframe tbody tr th:only-of-type {\n        vertical-align: middle;\n    }\n\n    .dataframe tbody tr th {\n        vertical-align: top;\n    }\n\n    .dataframe thead th {\n        text-align: right;\n    }\n</style>\n<table border=\"1\" class=\"dataframe\">\n  <thead>\n    <tr style=\"text-align: right;\">\n      <th></th>\n      <th>sex</th>\n      <th>age</th>\n      <th>smoke</th>\n      <th>height</th>\n    </tr>\n  </thead>\n  <tbody>\n    <tr>\n      <th>0</th>\n      <td>man</td>\n      <td>15</td>\n      <td>True</td>\n      <td>168</td>\n    </tr>\n    <tr>\n      <th>1</th>\n      <td>man</td>\n      <td>23</td>\n      <td>False</td>\n      <td>179</td>\n    </tr>\n    <tr>\n      <th>2</th>\n      <td>woman</td>\n      <td>25</td>\n      <td>False</td>\n      <td>181</td>\n    </tr>\n    <tr>\n      <th>3</th>\n      <td>woman</td>\n      <td>17</td>\n      <td>True</td>\n      <td>166</td>\n    </tr>\n    <tr>\n      <th>4</th>\n      <td>man</td>\n      <td>35</td>\n      <td>True</td>\n      <td>173</td>\n    </tr>\n    <tr>\n      <th>5</th>\n      <td>woman</td>\n      <td>57</td>\n      <td>False</td>\n      <td>178</td>\n    </tr>\n    <tr>\n      <th>6</th>\n      <td>man</td>\n      <td>24</td>\n      <td>False</td>\n      <td>188</td>\n    </tr>\n    <tr>\n      <th>7</th>\n      <td>woman</td>\n      <td>31</td>\n      <td>True</td>\n      <td>190</td>\n    </tr>\n    <tr>\n      <th>8</th>\n      <td>woman</td>\n      <td>22</td>\n      <td>False</td>\n      <td>160</td>\n    </tr>\n  </tbody>\n</table>\n</div>"
     },
     "metadata": {},
     "execution_count": 5
    }
   ],
   "source": [
    "df_survey = pd.DataFrame(data=[\n",
    "    {\n",
    "        \"sex\":\"man\",\n",
    "        \"age\":15,\n",
    "        \"smoke\":True,\n",
    "        \"height\":168\n",
    "    },\n",
    "    {\n",
    "        \"sex\":\"man\",\n",
    "        \"age\":23,\n",
    "        \"smoke\":False,\n",
    "        \"height\":179\n",
    "    },\n",
    "    {\n",
    "        \"sex\":\"woman\",\n",
    "        \"age\":25,\n",
    "        \"smoke\":False,\n",
    "        \"height\":181\n",
    "    },\n",
    "    {\n",
    "        \"sex\":\"woman\",\n",
    "        \"age\":17,\n",
    "        \"smoke\":True,\n",
    "        \"height\":166\n",
    "    },\n",
    "    {\n",
    "        \"sex\":\"man\",\n",
    "        \"age\":35,\n",
    "        \"smoke\":True,\n",
    "        \"height\":173\n",
    "    },\n",
    "    {\n",
    "        \"sex\":\"woman\",\n",
    "        \"age\":57,\n",
    "        \"smoke\":False,\n",
    "        \"height\":178\n",
    "    },\n",
    "    {\n",
    "        \"sex\":\"man\",\n",
    "        \"age\":24,\n",
    "        \"smoke\":False,\n",
    "        \"height\":188\n",
    "    },\n",
    "    {\n",
    "        \"sex\":\"woman\",\n",
    "        \"age\":31,\n",
    "        \"smoke\":True,\n",
    "        \"height\":190\n",
    "    },\n",
    "    {\n",
    "        \"sex\":\"woman\",\n",
    "        \"age\":22,\n",
    "        \"smoke\":False,\n",
    "        \"height\":160\n",
    "    }\n",
    "])\n",
    "df_survey"
   ]
  },
  {
   "cell_type": "markdown",
   "metadata": {},
   "source": [
    "5.请以性别为分组依据，查看男女抽烟平均年龄和身高（阅读参考文章①）"
   ]
  },
  {
   "cell_type": "code",
   "execution_count": 6,
   "metadata": {},
   "outputs": [
    {
     "output_type": "execute_result",
     "data": {
      "text/plain": "      mean       \n       age height\nsex              \nman     25  170.5\nwoman   24  178.0",
      "text/html": "<div>\n<style scoped>\n    .dataframe tbody tr th:only-of-type {\n        vertical-align: middle;\n    }\n\n    .dataframe tbody tr th {\n        vertical-align: top;\n    }\n\n    .dataframe thead tr th {\n        text-align: left;\n    }\n\n    .dataframe thead tr:last-of-type th {\n        text-align: right;\n    }\n</style>\n<table border=\"1\" class=\"dataframe\">\n  <thead>\n    <tr>\n      <th></th>\n      <th colspan=\"2\" halign=\"left\">mean</th>\n    </tr>\n    <tr>\n      <th></th>\n      <th>age</th>\n      <th>height</th>\n    </tr>\n    <tr>\n      <th>sex</th>\n      <th></th>\n      <th></th>\n    </tr>\n  </thead>\n  <tbody>\n    <tr>\n      <th>man</th>\n      <td>25</td>\n      <td>170.5</td>\n    </tr>\n    <tr>\n      <th>woman</th>\n      <td>24</td>\n      <td>178.0</td>\n    </tr>\n  </tbody>\n</table>\n</div>"
     },
     "metadata": {},
     "execution_count": 6
    }
   ],
   "source": [
    "df_survey[df_survey.smoke==True].pivot_table(values=[\"age\", \"height\"], index=[\"sex\"], aggfunc=[\"mean\"])"
   ]
  },
  {
   "cell_type": "markdown",
   "metadata": {},
   "source": [
    "6.利用交叉表知识，统计各个性别抽烟的人数（阅读参考文章③④⑤）"
   ]
  },
  {
   "cell_type": "code",
   "execution_count": 7,
   "metadata": {},
   "outputs": [
    {
     "output_type": "execute_result",
     "data": {
      "text/plain": "smoke  False  True \nsex                \nman        2      2\nwoman      3      2",
      "text/html": "<div>\n<style scoped>\n    .dataframe tbody tr th:only-of-type {\n        vertical-align: middle;\n    }\n\n    .dataframe tbody tr th {\n        vertical-align: top;\n    }\n\n    .dataframe thead th {\n        text-align: right;\n    }\n</style>\n<table border=\"1\" class=\"dataframe\">\n  <thead>\n    <tr style=\"text-align: right;\">\n      <th>smoke</th>\n      <th>False</th>\n      <th>True</th>\n    </tr>\n    <tr>\n      <th>sex</th>\n      <th></th>\n      <th></th>\n    </tr>\n  </thead>\n  <tbody>\n    <tr>\n      <th>man</th>\n      <td>2</td>\n      <td>2</td>\n    </tr>\n    <tr>\n      <th>woman</th>\n      <td>3</td>\n      <td>2</td>\n    </tr>\n  </tbody>\n</table>\n</div>"
     },
     "metadata": {},
     "execution_count": 7
    }
   ],
   "source": [
    "pd.crosstab(index=[df_survey[\"sex\"]], columns=[df_survey[\"smoke\"]])"
   ]
  },
  {
   "cell_type": "markdown",
   "metadata": {},
   "source": [
    "7.利用交叉表知识，统计各个年龄段抽烟人情况（阅读参考文章③④⑤）"
   ]
  },
  {
   "cell_type": "code",
   "execution_count": 8,
   "metadata": {},
   "outputs": [
    {
     "output_type": "execute_result",
     "data": {
      "text/plain": "smoke  False  True \nage                \n15         0      1\n17         0      1\n22         1      0\n23         1      0\n24         1      0\n25         1      0\n31         0      1\n35         0      1\n57         1      0",
      "text/html": "<div>\n<style scoped>\n    .dataframe tbody tr th:only-of-type {\n        vertical-align: middle;\n    }\n\n    .dataframe tbody tr th {\n        vertical-align: top;\n    }\n\n    .dataframe thead th {\n        text-align: right;\n    }\n</style>\n<table border=\"1\" class=\"dataframe\">\n  <thead>\n    <tr style=\"text-align: right;\">\n      <th>smoke</th>\n      <th>False</th>\n      <th>True</th>\n    </tr>\n    <tr>\n      <th>age</th>\n      <th></th>\n      <th></th>\n    </tr>\n  </thead>\n  <tbody>\n    <tr>\n      <th>15</th>\n      <td>0</td>\n      <td>1</td>\n    </tr>\n    <tr>\n      <th>17</th>\n      <td>0</td>\n      <td>1</td>\n    </tr>\n    <tr>\n      <th>22</th>\n      <td>1</td>\n      <td>0</td>\n    </tr>\n    <tr>\n      <th>23</th>\n      <td>1</td>\n      <td>0</td>\n    </tr>\n    <tr>\n      <th>24</th>\n      <td>1</td>\n      <td>0</td>\n    </tr>\n    <tr>\n      <th>25</th>\n      <td>1</td>\n      <td>0</td>\n    </tr>\n    <tr>\n      <th>31</th>\n      <td>0</td>\n      <td>1</td>\n    </tr>\n    <tr>\n      <th>35</th>\n      <td>0</td>\n      <td>1</td>\n    </tr>\n    <tr>\n      <th>57</th>\n      <td>1</td>\n      <td>0</td>\n    </tr>\n  </tbody>\n</table>\n</div>"
     },
     "metadata": {},
     "execution_count": 8
    }
   ],
   "source": [
    "pd.crosstab(index=[df_survey[\"age\"]], columns=[df_survey[\"smoke\"]])"
   ]
  },
  {
   "cell_type": "code",
   "execution_count": null,
   "metadata": {},
   "outputs": [],
   "source": []
  }
 ],
 "metadata": {
  "language_info": {
   "codemirror_mode": {
    "name": "ipython",
    "version": 3
   },
   "file_extension": ".py",
   "mimetype": "text/x-python",
   "name": "python",
   "nbconvert_exporter": "python",
   "pygments_lexer": "ipython3",
   "version": "3.7.2-final"
  },
  "orig_nbformat": 2,
  "kernelspec": {
   "name": "python37264bitpandaspipenvfd6d917ada63417297b661f10300e4d1",
   "display_name": "Python 3.7.2 64-bit ('pandas': pipenv)"
  }
 },
 "nbformat": 4,
 "nbformat_minor": 2
}