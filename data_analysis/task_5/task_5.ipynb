{
 "cells": [
  {
   "cell_type": "code",
   "execution_count": 1,
   "metadata": {},
   "outputs": [],
   "source": [
    "import pandas as pd\n",
    "import numpy as np\n",
    "import matplotlib.pyplot as plt\n",
    "import pylab\n",
    "pylab.mpl.rcParams['font.sans-serif'] = ['SimHei'] #支持中文"
   ]
  },
  {
   "cell_type": "markdown",
   "metadata": {},
   "source": [
    "有 6 家上市公司的股票代码、市值与市盈率数据如下，请按照下面要求利用 pandas 对该组数据进行数据分析统计。  \n",
    "![](https://cdn.py2china.cn/study-group/pandas/5-1.png)"
   ]
  },
  {
   "cell_type": "markdown",
   "metadata": {},
   "source": [
    "1.请根据上方表格数据创建一个 DataFrame 存储公司的数据，数据命名为 df_company（阅读参考文章①）"
   ]
  },
  {
   "cell_type": "code",
   "execution_count": 2,
   "metadata": {},
   "outputs": [
    {
     "output_type": "execute_result",
     "data": {
      "text/plain": "  company    code  market    PER\n0    杭州银行  600926     449   8.31\n1    青农商行  002958     371  15.36\n2    常熟银行  601128     237  16.01\n3    工商银行  601398   21313   7.16\n4    上海银行  601229    1369   7.59\n5    江苏银行  600919     823   6.30",
      "text/html": "<div>\n<style scoped>\n    .dataframe tbody tr th:only-of-type {\n        vertical-align: middle;\n    }\n\n    .dataframe tbody tr th {\n        vertical-align: top;\n    }\n\n    .dataframe thead th {\n        text-align: right;\n    }\n</style>\n<table border=\"1\" class=\"dataframe\">\n  <thead>\n    <tr style=\"text-align: right;\">\n      <th></th>\n      <th>company</th>\n      <th>code</th>\n      <th>market</th>\n      <th>PER</th>\n    </tr>\n  </thead>\n  <tbody>\n    <tr>\n      <th>0</th>\n      <td>杭州银行</td>\n      <td>600926</td>\n      <td>449</td>\n      <td>8.31</td>\n    </tr>\n    <tr>\n      <th>1</th>\n      <td>青农商行</td>\n      <td>002958</td>\n      <td>371</td>\n      <td>15.36</td>\n    </tr>\n    <tr>\n      <th>2</th>\n      <td>常熟银行</td>\n      <td>601128</td>\n      <td>237</td>\n      <td>16.01</td>\n    </tr>\n    <tr>\n      <th>3</th>\n      <td>工商银行</td>\n      <td>601398</td>\n      <td>21313</td>\n      <td>7.16</td>\n    </tr>\n    <tr>\n      <th>4</th>\n      <td>上海银行</td>\n      <td>601229</td>\n      <td>1369</td>\n      <td>7.59</td>\n    </tr>\n    <tr>\n      <th>5</th>\n      <td>江苏银行</td>\n      <td>600919</td>\n      <td>823</td>\n      <td>6.30</td>\n    </tr>\n  </tbody>\n</table>\n</div>"
     },
     "metadata": {},
     "execution_count": 2
    }
   ],
   "source": [
    "data = [\n",
    "    {\n",
    "        \"company\":\"杭州银行\",\n",
    "        \"code\":\"600926\",\n",
    "        \"market\":449,\n",
    "        \"PER\":8.31,\n",
    "    },\n",
    "    {\n",
    "        \"company\":\"青农商行\",\n",
    "        \"code\":\"002958\",\n",
    "        \"market\":371,\n",
    "        \"PER\":15.36,\n",
    "    },\n",
    "    {\n",
    "        \"company\":\"常熟银行\",\n",
    "        \"code\":\"601128\",\n",
    "        \"market\":237,\n",
    "        \"PER\":16.01,\n",
    "    },\n",
    "    {\n",
    "        \"company\":\"工商银行\",\n",
    "        \"code\":\"601398\",\n",
    "        \"market\":21313,\n",
    "        \"PER\":7.16,\n",
    "    },\n",
    "    {\n",
    "        \"company\":\"上海银行\",\n",
    "        \"code\":\"601229\",\n",
    "        \"market\":1369,\n",
    "        \"PER\":7.59,\n",
    "    },\n",
    "    {\n",
    "        \"company\":\"江苏银行\",\n",
    "        \"code\":\"600919\",\n",
    "        \"market\":823,\n",
    "        \"PER\":6.3,\n",
    "    },\n",
    "]\n",
    "df_company = pd.DataFrame(data)\n",
    "df_company"
   ]
  },
  {
   "cell_type": "markdown",
   "metadata": {},
   "source": [
    "2.选出市值低于 2000 亿的所有公司（任务提示：使用布尔形式选取数据，阅读参考文章②③）"
   ]
  },
  {
   "cell_type": "code",
   "execution_count": 3,
   "metadata": {},
   "outputs": [
    {
     "output_type": "execute_result",
     "data": {
      "text/plain": "  company    code  market    PER\n0    杭州银行  600926     449   8.31\n1    青农商行  002958     371  15.36\n2    常熟银行  601128     237  16.01\n4    上海银行  601229    1369   7.59\n5    江苏银行  600919     823   6.30",
      "text/html": "<div>\n<style scoped>\n    .dataframe tbody tr th:only-of-type {\n        vertical-align: middle;\n    }\n\n    .dataframe tbody tr th {\n        vertical-align: top;\n    }\n\n    .dataframe thead th {\n        text-align: right;\n    }\n</style>\n<table border=\"1\" class=\"dataframe\">\n  <thead>\n    <tr style=\"text-align: right;\">\n      <th></th>\n      <th>company</th>\n      <th>code</th>\n      <th>market</th>\n      <th>PER</th>\n    </tr>\n  </thead>\n  <tbody>\n    <tr>\n      <th>0</th>\n      <td>杭州银行</td>\n      <td>600926</td>\n      <td>449</td>\n      <td>8.31</td>\n    </tr>\n    <tr>\n      <th>1</th>\n      <td>青农商行</td>\n      <td>002958</td>\n      <td>371</td>\n      <td>15.36</td>\n    </tr>\n    <tr>\n      <th>2</th>\n      <td>常熟银行</td>\n      <td>601128</td>\n      <td>237</td>\n      <td>16.01</td>\n    </tr>\n    <tr>\n      <th>4</th>\n      <td>上海银行</td>\n      <td>601229</td>\n      <td>1369</td>\n      <td>7.59</td>\n    </tr>\n    <tr>\n      <th>5</th>\n      <td>江苏银行</td>\n      <td>600919</td>\n      <td>823</td>\n      <td>6.30</td>\n    </tr>\n  </tbody>\n</table>\n</div>"
     },
     "metadata": {},
     "execution_count": 3
    }
   ],
   "source": [
    "df_company[df_company.market<2000]"
   ]
  },
  {
   "cell_type": "markdown",
   "metadata": {},
   "source": [
    "3.选出市值 < 2000亿，并且市盈率 < 10 的所有公司（任务提示：使用布尔形式选取数据，阅读参考文章②③）"
   ]
  },
  {
   "cell_type": "code",
   "execution_count": 4,
   "metadata": {},
   "outputs": [
    {
     "output_type": "execute_result",
     "data": {
      "text/plain": "  company    code  market   PER\n0    杭州银行  600926     449  8.31\n4    上海银行  601229    1369  7.59\n5    江苏银行  600919     823  6.30",
      "text/html": "<div>\n<style scoped>\n    .dataframe tbody tr th:only-of-type {\n        vertical-align: middle;\n    }\n\n    .dataframe tbody tr th {\n        vertical-align: top;\n    }\n\n    .dataframe thead th {\n        text-align: right;\n    }\n</style>\n<table border=\"1\" class=\"dataframe\">\n  <thead>\n    <tr style=\"text-align: right;\">\n      <th></th>\n      <th>company</th>\n      <th>code</th>\n      <th>market</th>\n      <th>PER</th>\n    </tr>\n  </thead>\n  <tbody>\n    <tr>\n      <th>0</th>\n      <td>杭州银行</td>\n      <td>600926</td>\n      <td>449</td>\n      <td>8.31</td>\n    </tr>\n    <tr>\n      <th>4</th>\n      <td>上海银行</td>\n      <td>601229</td>\n      <td>1369</td>\n      <td>7.59</td>\n    </tr>\n    <tr>\n      <th>5</th>\n      <td>江苏银行</td>\n      <td>600919</td>\n      <td>823</td>\n      <td>6.30</td>\n    </tr>\n  </tbody>\n</table>\n</div>"
     },
     "metadata": {},
     "execution_count": 4
    }
   ],
   "source": [
    "# 两种方式\n",
    "# 第一种条件组合\n",
    "df_company[(df_company.market<2000)&(df_company.PER<10)]\n",
    "# 第二种链式，只适用且条件\n",
    "# df_company[df_company.market<2000][df_company.PER<10]"
   ]
  },
  {
   "cell_type": "markdown",
   "metadata": {},
   "source": [
    "4.假设其中一家公司股票的每日收盘价数据，如下\n",
    "```python\n",
    "import numpy as np\n",
    "dr = pd.date_range(start='2019-01-02', periods=100)\n",
    "data = np.random.randn(100).cumsum()\n",
    "close = data - np.min(data)\n",
    "df = pd.DataFrame({\"close\": close}, index=dr)\n",
    "df\n",
    "```\n",
    "请计算收盘价的五日平均，并新增一列存储（任务提示：使用窗函数rolling计算移动平均，阅读参考文章④）"
   ]
  },
  {
   "cell_type": "code",
   "execution_count": 5,
   "metadata": {},
   "outputs": [
    {
     "output_type": "execute_result",
     "data": {
      "text/plain": "                close  roll_mean\n2019-01-02   0.380777        NaN\n2019-01-03   1.204048        NaN\n2019-01-04   2.991155        NaN\n2019-01-05   2.727459        NaN\n2019-01-06   1.924486   1.845585\n...               ...        ...\n2019-04-07  14.349660  14.387378\n2019-04-08  12.750578  14.110085\n2019-04-09  11.027560  13.463711\n2019-04-10  11.914108  12.941675\n2019-04-11  12.726621  12.553705\n\n[100 rows x 2 columns]",
      "text/html": "<div>\n<style scoped>\n    .dataframe tbody tr th:only-of-type {\n        vertical-align: middle;\n    }\n\n    .dataframe tbody tr th {\n        vertical-align: top;\n    }\n\n    .dataframe thead th {\n        text-align: right;\n    }\n</style>\n<table border=\"1\" class=\"dataframe\">\n  <thead>\n    <tr style=\"text-align: right;\">\n      <th></th>\n      <th>close</th>\n      <th>roll_mean</th>\n    </tr>\n  </thead>\n  <tbody>\n    <tr>\n      <th>2019-01-02</th>\n      <td>0.380777</td>\n      <td>NaN</td>\n    </tr>\n    <tr>\n      <th>2019-01-03</th>\n      <td>1.204048</td>\n      <td>NaN</td>\n    </tr>\n    <tr>\n      <th>2019-01-04</th>\n      <td>2.991155</td>\n      <td>NaN</td>\n    </tr>\n    <tr>\n      <th>2019-01-05</th>\n      <td>2.727459</td>\n      <td>NaN</td>\n    </tr>\n    <tr>\n      <th>2019-01-06</th>\n      <td>1.924486</td>\n      <td>1.845585</td>\n    </tr>\n    <tr>\n      <th>...</th>\n      <td>...</td>\n      <td>...</td>\n    </tr>\n    <tr>\n      <th>2019-04-07</th>\n      <td>14.349660</td>\n      <td>14.387378</td>\n    </tr>\n    <tr>\n      <th>2019-04-08</th>\n      <td>12.750578</td>\n      <td>14.110085</td>\n    </tr>\n    <tr>\n      <th>2019-04-09</th>\n      <td>11.027560</td>\n      <td>13.463711</td>\n    </tr>\n    <tr>\n      <th>2019-04-10</th>\n      <td>11.914108</td>\n      <td>12.941675</td>\n    </tr>\n    <tr>\n      <th>2019-04-11</th>\n      <td>12.726621</td>\n      <td>12.553705</td>\n    </tr>\n  </tbody>\n</table>\n<p>100 rows × 2 columns</p>\n</div>"
     },
     "metadata": {},
     "execution_count": 5
    }
   ],
   "source": [
    "dr = pd.date_range(start='2019-01-02', periods=100)\n",
    "data = np.random.randn(100).cumsum()\n",
    "close = data - np.min(data)\n",
    "df = pd.DataFrame({\"close\": close}, index=dr)\n",
    "df[\"roll_mean\"] = df[\"close\"].rolling(window=5).mean()\n",
    "df"
   ]
  },
  {
   "cell_type": "markdown",
   "metadata": {},
   "source": [
    "请将下方表格数据存储在 DataFrame 中，然后按要求完成练习  \n",
    "![](https://cdn.py2china.cn/study-group/pandas/5-2.png)"
   ]
  },
  {
   "cell_type": "markdown",
   "metadata": {},
   "source": [
    "5.创建 DataFrame 存储数据"
   ]
  },
  {
   "cell_type": "code",
   "execution_count": 6,
   "metadata": {},
   "outputs": [
    {
     "output_type": "execute_result",
     "data": {
      "text/plain": "   第一列  第二列  第三列  第四列\na    1    2    3    4\nb    5    6    7    8\nc    9   10   11   12\nd   13   14   15   16",
      "text/html": "<div>\n<style scoped>\n    .dataframe tbody tr th:only-of-type {\n        vertical-align: middle;\n    }\n\n    .dataframe tbody tr th {\n        vertical-align: top;\n    }\n\n    .dataframe thead th {\n        text-align: right;\n    }\n</style>\n<table border=\"1\" class=\"dataframe\">\n  <thead>\n    <tr style=\"text-align: right;\">\n      <th></th>\n      <th>第一列</th>\n      <th>第二列</th>\n      <th>第三列</th>\n      <th>第四列</th>\n    </tr>\n  </thead>\n  <tbody>\n    <tr>\n      <th>a</th>\n      <td>1</td>\n      <td>2</td>\n      <td>3</td>\n      <td>4</td>\n    </tr>\n    <tr>\n      <th>b</th>\n      <td>5</td>\n      <td>6</td>\n      <td>7</td>\n      <td>8</td>\n    </tr>\n    <tr>\n      <th>c</th>\n      <td>9</td>\n      <td>10</td>\n      <td>11</td>\n      <td>12</td>\n    </tr>\n    <tr>\n      <th>d</th>\n      <td>13</td>\n      <td>14</td>\n      <td>15</td>\n      <td>16</td>\n    </tr>\n  </tbody>\n</table>\n</div>"
     },
     "metadata": {},
     "execution_count": 6
    }
   ],
   "source": [
    "data1 = np.array(np.arange(1,17)).reshape(4,4)\n",
    "df1 = pd.DataFrame(data=data1, columns=[\"第一列\",\"第二列\",\"第三列\",\"第四列\"], index=[\"a\",\"b\",\"c\",\"d\"])\n",
    "df1"
   ]
  },
  {
   "cell_type": "markdown",
   "metadata": {},
   "source": [
    "6.请利用 apply 函数，统计出每一行的总数（阅读参考文章⑤⑥）"
   ]
  },
  {
   "cell_type": "code",
   "execution_count": 7,
   "metadata": {},
   "outputs": [
    {
     "output_type": "execute_result",
     "data": {
      "text/plain": "   第一列  第二列  第三列  第四列  总和\na    1    2    3    4  10\nb    5    6    7    8  26\nc    9   10   11   12  42\nd   13   14   15   16  58",
      "text/html": "<div>\n<style scoped>\n    .dataframe tbody tr th:only-of-type {\n        vertical-align: middle;\n    }\n\n    .dataframe tbody tr th {\n        vertical-align: top;\n    }\n\n    .dataframe thead th {\n        text-align: right;\n    }\n</style>\n<table border=\"1\" class=\"dataframe\">\n  <thead>\n    <tr style=\"text-align: right;\">\n      <th></th>\n      <th>第一列</th>\n      <th>第二列</th>\n      <th>第三列</th>\n      <th>第四列</th>\n      <th>总和</th>\n    </tr>\n  </thead>\n  <tbody>\n    <tr>\n      <th>a</th>\n      <td>1</td>\n      <td>2</td>\n      <td>3</td>\n      <td>4</td>\n      <td>10</td>\n    </tr>\n    <tr>\n      <th>b</th>\n      <td>5</td>\n      <td>6</td>\n      <td>7</td>\n      <td>8</td>\n      <td>26</td>\n    </tr>\n    <tr>\n      <th>c</th>\n      <td>9</td>\n      <td>10</td>\n      <td>11</td>\n      <td>12</td>\n      <td>42</td>\n    </tr>\n    <tr>\n      <th>d</th>\n      <td>13</td>\n      <td>14</td>\n      <td>15</td>\n      <td>16</td>\n      <td>58</td>\n    </tr>\n  </tbody>\n</table>\n</div>"
     },
     "metadata": {},
     "execution_count": 7
    }
   ],
   "source": [
    "df_sum = pd.DataFrame.copy(df1)\n",
    "df_sum[\"总和\"] = df1.apply(lambda x: x.sum(), axis=1)\n",
    "df_sum"
   ]
  },
  {
   "cell_type": "markdown",
   "metadata": {},
   "source": [
    "7.请生成第 5 列数据，使其满足：当第 3 列数据 > 10 时，第 6 列数据等于第 1 、第 2 列数据之和；否则第 5 列数据等于第 3 列数据（阅读参考文章⑤⑥）"
   ]
  },
  {
   "cell_type": "code",
   "execution_count": 8,
   "metadata": {},
   "outputs": [
    {
     "output_type": "execute_result",
     "data": {
      "text/plain": "   第一列  第二列  第三列  第四列  第五列\na    1    2    3    4    3\nb    5    6    7    8    7\nc    9   10   11   12   19\nd   13   14   15   16   27",
      "text/html": "<div>\n<style scoped>\n    .dataframe tbody tr th:only-of-type {\n        vertical-align: middle;\n    }\n\n    .dataframe tbody tr th {\n        vertical-align: top;\n    }\n\n    .dataframe thead th {\n        text-align: right;\n    }\n</style>\n<table border=\"1\" class=\"dataframe\">\n  <thead>\n    <tr style=\"text-align: right;\">\n      <th></th>\n      <th>第一列</th>\n      <th>第二列</th>\n      <th>第三列</th>\n      <th>第四列</th>\n      <th>第五列</th>\n    </tr>\n  </thead>\n  <tbody>\n    <tr>\n      <th>a</th>\n      <td>1</td>\n      <td>2</td>\n      <td>3</td>\n      <td>4</td>\n      <td>3</td>\n    </tr>\n    <tr>\n      <th>b</th>\n      <td>5</td>\n      <td>6</td>\n      <td>7</td>\n      <td>8</td>\n      <td>7</td>\n    </tr>\n    <tr>\n      <th>c</th>\n      <td>9</td>\n      <td>10</td>\n      <td>11</td>\n      <td>12</td>\n      <td>19</td>\n    </tr>\n    <tr>\n      <th>d</th>\n      <td>13</td>\n      <td>14</td>\n      <td>15</td>\n      <td>16</td>\n      <td>27</td>\n    </tr>\n  </tbody>\n</table>\n</div>"
     },
     "metadata": {},
     "execution_count": 8
    }
   ],
   "source": [
    "def five_col_value(row):\n",
    "    return row[0] + row[1] if row[2] > 10 else row[2]\n",
    "df_five = pd.DataFrame.copy(df1)\n",
    "df_five[\"第五列\"] = df_five.apply(five_col_value, axis=1)\n",
    "df_five"
   ]
  },
  {
   "cell_type": "code",
   "execution_count": null,
   "metadata": {},
   "outputs": [],
   "source": []
  }
 ],
 "metadata": {
  "language_info": {
   "codemirror_mode": {
    "name": "ipython",
    "version": 3
   },
   "file_extension": ".py",
   "mimetype": "text/x-python",
   "name": "python",
   "nbconvert_exporter": "python",
   "pygments_lexer": "ipython3",
   "version": "3.7.2-final"
  },
  "orig_nbformat": 2,
  "kernelspec": {
   "name": "python37264bitpandaspipenvfd6d917ada63417297b661f10300e4d1",
   "display_name": "Python 3.7.2 64-bit ('pandas': pipenv)"
  }
 },
 "nbformat": 4,
 "nbformat_minor": 2
}