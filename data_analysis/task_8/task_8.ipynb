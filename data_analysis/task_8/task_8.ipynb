{
 "cells": [
  {
   "cell_type": "code",
   "execution_count": 1,
   "metadata": {},
   "outputs": [],
   "source": [
    "import pandas as pd\n",
    "import numpy as np\n",
    "import matplotlib.pyplot as plt\n",
    "import pylab\n",
    "pylab.mpl.rcParams['font.sans-serif'] = ['SimHei'] #支持中文"
   ]
  },
  {
   "cell_type": "markdown",
   "metadata": {},
   "source": [
    "任务详情\n",
    "\n",
    "以下为上海地区某时期内的二手房数据，存在 houses.csv中，每条房源包含下列信息，请按照要求进行统计分析：\n",
    "\n",
    "![](https://cdn.py2china.cn/study-group/pandas/8-1.png)"
   ]
  },
  {
   "cell_type": "markdown",
   "metadata": {},
   "source": [
    "1.用 pandas 读取 csv 格式文件，并将所有字段的重复数据去除（阅读参考文章①②）"
   ]
  },
  {
   "cell_type": "code",
   "execution_count": 2,
   "metadata": {},
   "outputs": [
    {
     "output_type": "stream",
     "name": "stdout",
     "text": "<class 'pandas.core.frame.DataFrame'>\nInt64Index: 69654 entries, 0 to 69653\nData columns (total 15 columns):\nUnnamed: 0           69654 non-null int64\n_id                  69654 non-null object\ntitle                69654 non-null object\nprice                69654 non-null float64\nup_price             69654 non-null int64\nxiaoqu_name          69654 non-null object\nsize                 69654 non-null float64\nbuildyear            69654 non-null int64\nhuxing               69654 non-null object\nchaoxiang            69654 non-null object\nzhuangxiu            69654 non-null object\ncenggao              69654 non-null object\nlouxing              69654 non-null object\ndistrict_name        69654 non-null object\nsub_district_name    69654 non-null object\ndtypes: float64(2), int64(3), object(10)\nmemory usage: 8.5+ MB\n"
    }
   ],
   "source": [
    "df_house = pd.read_csv('./houses.csv', encoding='gbk').drop_duplicates()\n",
    "df_house.info()"
   ]
  },
  {
   "cell_type": "markdown",
   "metadata": {},
   "source": [
    "2.请统计出总房源数量、总小区数量、总版块数量（任务提示：直接统计数据的条数，即用 len 函数即可。阅读参考文章③）"
   ]
  },
  {
   "cell_type": "code",
   "execution_count": 3,
   "metadata": {},
   "outputs": [
    {
     "output_type": "execute_result",
     "data": {
      "text/plain": "65596"
     },
     "metadata": {},
     "execution_count": 3
    }
   ],
   "source": [
    "title_count = len(df_house.title.unique())\n",
    "title_count"
   ]
  },
  {
   "cell_type": "code",
   "execution_count": 4,
   "metadata": {},
   "outputs": [
    {
     "output_type": "execute_result",
     "data": {
      "text/plain": "8333"
     },
     "metadata": {},
     "execution_count": 4
    }
   ],
   "source": [
    "xiaoqu_name_count = len(df_house.xiaoqu_name.drop_duplicates())\n",
    "xiaoqu_name_count"
   ]
  },
  {
   "cell_type": "code",
   "execution_count": 5,
   "metadata": {},
   "outputs": [
    {
     "output_type": "execute_result",
     "data": {
      "text/plain": "165"
     },
     "metadata": {},
     "execution_count": 5
    }
   ],
   "source": [
    "sub_district_name_count = len(df_house[['sub_district_name']].drop_duplicates())\n",
    "sub_district_name_count"
   ]
  },
  {
   "cell_type": "markdown",
   "metadata": {},
   "source": [
    "3.请统计出有哪些不同的户型、有哪些不同的装修情况、有哪些不同的建造年份（任务提示：可用 unique 函数进行统计。阅读参考文章④）"
   ]
  },
  {
   "cell_type": "code",
   "execution_count": 6,
   "metadata": {},
   "outputs": [
    {
     "output_type": "execute_result",
     "data": {
      "text/plain": "array(['2室2厅 ', '2室1厅 ', '1室1厅 ', '4室3厅 ', '3室1厅 ', '3室2厅 ', '4室2厅 ',\n       '1室2厅 ', '2室0厅 ', '5室1厅 ', '1室0厅 ', '5室3厅 ', '5室2厅 ', '4室1厅 ',\n       '4室4厅 ', '6室3厅 ', '5室6厅 ', '6室2厅 ', '5室4厅 ', '7室3厅 ', '3室3厅 ',\n       '9室2厅 ', '7室2厅 ', '7室1厅 ', '6室4厅 ', '6室1厅 ', '8室4厅 ', '3室0厅 ',\n       '7室4厅 ', '7室5厅 ', '4室5厅 ', '9室6厅 ', '9室4厅 ', '6室5厅 ', '10室1厅 ',\n       '4室0厅 ', '8室1厅 ', '9室3厅 ', '9室9厅 ', '5室5厅 ', '8室3厅 ', '2室3厅 ',\n       '7室6厅 ', '8室2厅 ', '0室0厅 ', '6室6厅 ', '10室6厅 ', '2室4厅 ', '6室0厅 ',\n       '10室2厅 ', '7室0厅 ', '3室4厅 ', '8室5厅 ', '10室3厅 ', '5室0厅 ', '3室5厅 '],\n      dtype=object)"
     },
     "metadata": {},
     "execution_count": 6
    }
   ],
   "source": [
    "huxing_unique = df_house.huxing.unique()\n",
    "huxing_unique"
   ]
  },
  {
   "cell_type": "code",
   "execution_count": 7,
   "metadata": {},
   "outputs": [
    {
     "output_type": "execute_result",
     "data": {
      "text/plain": "array([' 简装 ', ' 精装 ', ' 毛坯 ', ' 其他 '], dtype=object)"
     },
     "metadata": {},
     "execution_count": 7
    }
   ],
   "source": [
    "zhuangxiu_unique = df_house.zhuangxiu.unique()\n",
    "zhuangxiu_unique"
   ]
  },
  {
   "cell_type": "code",
   "execution_count": 8,
   "metadata": {},
   "outputs": [
    {
     "output_type": "execute_result",
     "data": {
      "text/plain": "array([2010, 1995, 2007, 1997, 2004, 1994, 2011, 2012, 1998, 2013, 1999,\n       2016, 2000, 2005, 1996, 2003, 2015, 2006, 2009, 1993, 2002, 2014,\n       1992, 2008, 2001, 2019, 2018, 1987, 1991, 2017, 1989, 1988, 1982,\n       1983, 1984, 1981, 1985, 1977, 1986, 1990, 1979, 1980, 1953, 1976,\n       1958, 1978, 1969, 1974, 1975, 1955, 1971, 1954, 1956, 1959, 1968,\n       1964, 1960, 1967, 1972, 1961, 1973, 1936, 1911, 1941, 1948, 1949,\n       1939, 1933, 1940, 1946, 1937, 1910, 1945, 1957, 1965, 1966, 1970,\n       1963, 1950, 1962, 1930, 1920, 1947, 1938, 1934, 1935, 1921, 1926,\n       1912, 1924, 1928, 1931, 1943, 1900, 1952, 1951], dtype=int64)"
     },
     "metadata": {},
     "execution_count": 8
    }
   ],
   "source": [
    "buildyear_unique = df_house.buildyear.unique()\n",
    "buildyear_unique"
   ]
  },
  {
   "cell_type": "markdown",
   "metadata": {},
   "source": [
    "4.请计算出上海二手房每平方米均价"
   ]
  },
  {
   "cell_type": "code",
   "execution_count": 9,
   "metadata": {},
   "outputs": [
    {
     "output_type": "execute_result",
     "data": {
      "text/plain": "55051.4809056192"
     },
     "metadata": {},
     "execution_count": 9
    }
   ],
   "source": [
    "up_price_mean = df_house.up_price.mean()\n",
    "up_price_mean"
   ]
  },
  {
   "cell_type": "markdown",
   "metadata": {},
   "source": [
    "5.请统计出不同户型对应的房源数量、平均面积；并从大到小进行排序，判断出主流户型是什么？平均面积多大？（任务提示：以 huxing 为分组对象，展示 size 列，统计户型数量和 size 平均数。阅读参考文章⑤⑥⑦⑧）"
   ]
  },
  {
   "cell_type": "code",
   "execution_count": 10,
   "metadata": {},
   "outputs": [
    {
     "output_type": "execute_result",
     "data": {
      "text/plain": "         房源数量         平均面积\nhuxing                    \n2室1厅    17364    66.915066\n2室2厅    12990    93.016552\n3室2厅    12618   129.362787\n1室1厅    12103    46.955651\n4室2厅     3613   208.867312\n3室1厅     3451    91.561336\n1室0厅     1914    36.206541\n2室0厅     1369    49.615223\n1室2厅     1192    67.410990\n5室2厅      855   286.614175\n5室3厅      584   360.780565\n4室3厅      566   272.177951\n6室3厅      181   395.391215\n6室2厅      147   289.408435\n4室1厅      145   154.547586\n3室3厅      134   175.504030\n3室0厅      107    68.571869\n5室4厅       51   403.056667\n6室4厅       49   516.186122\n7室3厅       36   461.077222\n5室1厅       32   225.869375\n7室2厅       30   310.042667\n4室4厅       21   265.587143\n6室1厅       11   170.230909\n7室4厅        9   535.334444\n8室2厅        9   366.875556\n2室3厅        8   118.597500\n6室5厅        7   669.482857\n8室3厅        6   474.710000\n7室5厅        5   532.396000\n8室4厅        5   622.384000\n9室2厅        4   757.650000\n0室0厅        4   237.622500\n9室4厅        3   409.463333\n4室0厅        3   192.590000\n5室6厅        3   344.720000\n6室0厅        2   504.425000\n5室5厅        2   334.585000\n9室6厅        2   473.775000\n7室1厅        2   177.200000\n7室6厅        2   406.005000\n2室4厅        1   129.400000\n9室3厅        1   593.010000\n10室2厅       1   370.000000\n8室5厅        1  1663.100000\n10室3厅       1   598.320000\n10室6厅       1   473.610000\n3室4厅        1    94.370000\n8室1厅        1   386.170000\n3室5厅        1   376.210000\n4室5厅        1   321.000000\n7室0厅        1   161.440000\n6室6厅        1  1440.160000\n5室0厅        1    89.600000\n10室1厅       1   544.990000\n9室9厅        1  1352.240000",
      "text/html": "<div>\n<style scoped>\n    .dataframe tbody tr th:only-of-type {\n        vertical-align: middle;\n    }\n\n    .dataframe tbody tr th {\n        vertical-align: top;\n    }\n\n    .dataframe thead th {\n        text-align: right;\n    }\n</style>\n<table border=\"1\" class=\"dataframe\">\n  <thead>\n    <tr style=\"text-align: right;\">\n      <th></th>\n      <th>房源数量</th>\n      <th>平均面积</th>\n    </tr>\n    <tr>\n      <th>huxing</th>\n      <th></th>\n      <th></th>\n    </tr>\n  </thead>\n  <tbody>\n    <tr>\n      <th>2室1厅</th>\n      <td>17364</td>\n      <td>66.915066</td>\n    </tr>\n    <tr>\n      <th>2室2厅</th>\n      <td>12990</td>\n      <td>93.016552</td>\n    </tr>\n    <tr>\n      <th>3室2厅</th>\n      <td>12618</td>\n      <td>129.362787</td>\n    </tr>\n    <tr>\n      <th>1室1厅</th>\n      <td>12103</td>\n      <td>46.955651</td>\n    </tr>\n    <tr>\n      <th>4室2厅</th>\n      <td>3613</td>\n      <td>208.867312</td>\n    </tr>\n    <tr>\n      <th>3室1厅</th>\n      <td>3451</td>\n      <td>91.561336</td>\n    </tr>\n    <tr>\n      <th>1室0厅</th>\n      <td>1914</td>\n      <td>36.206541</td>\n    </tr>\n    <tr>\n      <th>2室0厅</th>\n      <td>1369</td>\n      <td>49.615223</td>\n    </tr>\n    <tr>\n      <th>1室2厅</th>\n      <td>1192</td>\n      <td>67.410990</td>\n    </tr>\n    <tr>\n      <th>5室2厅</th>\n      <td>855</td>\n      <td>286.614175</td>\n    </tr>\n    <tr>\n      <th>5室3厅</th>\n      <td>584</td>\n      <td>360.780565</td>\n    </tr>\n    <tr>\n      <th>4室3厅</th>\n      <td>566</td>\n      <td>272.177951</td>\n    </tr>\n    <tr>\n      <th>6室3厅</th>\n      <td>181</td>\n      <td>395.391215</td>\n    </tr>\n    <tr>\n      <th>6室2厅</th>\n      <td>147</td>\n      <td>289.408435</td>\n    </tr>\n    <tr>\n      <th>4室1厅</th>\n      <td>145</td>\n      <td>154.547586</td>\n    </tr>\n    <tr>\n      <th>3室3厅</th>\n      <td>134</td>\n      <td>175.504030</td>\n    </tr>\n    <tr>\n      <th>3室0厅</th>\n      <td>107</td>\n      <td>68.571869</td>\n    </tr>\n    <tr>\n      <th>5室4厅</th>\n      <td>51</td>\n      <td>403.056667</td>\n    </tr>\n    <tr>\n      <th>6室4厅</th>\n      <td>49</td>\n      <td>516.186122</td>\n    </tr>\n    <tr>\n      <th>7室3厅</th>\n      <td>36</td>\n      <td>461.077222</td>\n    </tr>\n    <tr>\n      <th>5室1厅</th>\n      <td>32</td>\n      <td>225.869375</td>\n    </tr>\n    <tr>\n      <th>7室2厅</th>\n      <td>30</td>\n      <td>310.042667</td>\n    </tr>\n    <tr>\n      <th>4室4厅</th>\n      <td>21</td>\n      <td>265.587143</td>\n    </tr>\n    <tr>\n      <th>6室1厅</th>\n      <td>11</td>\n      <td>170.230909</td>\n    </tr>\n    <tr>\n      <th>7室4厅</th>\n      <td>9</td>\n      <td>535.334444</td>\n    </tr>\n    <tr>\n      <th>8室2厅</th>\n      <td>9</td>\n      <td>366.875556</td>\n    </tr>\n    <tr>\n      <th>2室3厅</th>\n      <td>8</td>\n      <td>118.597500</td>\n    </tr>\n    <tr>\n      <th>6室5厅</th>\n      <td>7</td>\n      <td>669.482857</td>\n    </tr>\n    <tr>\n      <th>8室3厅</th>\n      <td>6</td>\n      <td>474.710000</td>\n    </tr>\n    <tr>\n      <th>7室5厅</th>\n      <td>5</td>\n      <td>532.396000</td>\n    </tr>\n    <tr>\n      <th>8室4厅</th>\n      <td>5</td>\n      <td>622.384000</td>\n    </tr>\n    <tr>\n      <th>9室2厅</th>\n      <td>4</td>\n      <td>757.650000</td>\n    </tr>\n    <tr>\n      <th>0室0厅</th>\n      <td>4</td>\n      <td>237.622500</td>\n    </tr>\n    <tr>\n      <th>9室4厅</th>\n      <td>3</td>\n      <td>409.463333</td>\n    </tr>\n    <tr>\n      <th>4室0厅</th>\n      <td>3</td>\n      <td>192.590000</td>\n    </tr>\n    <tr>\n      <th>5室6厅</th>\n      <td>3</td>\n      <td>344.720000</td>\n    </tr>\n    <tr>\n      <th>6室0厅</th>\n      <td>2</td>\n      <td>504.425000</td>\n    </tr>\n    <tr>\n      <th>5室5厅</th>\n      <td>2</td>\n      <td>334.585000</td>\n    </tr>\n    <tr>\n      <th>9室6厅</th>\n      <td>2</td>\n      <td>473.775000</td>\n    </tr>\n    <tr>\n      <th>7室1厅</th>\n      <td>2</td>\n      <td>177.200000</td>\n    </tr>\n    <tr>\n      <th>7室6厅</th>\n      <td>2</td>\n      <td>406.005000</td>\n    </tr>\n    <tr>\n      <th>2室4厅</th>\n      <td>1</td>\n      <td>129.400000</td>\n    </tr>\n    <tr>\n      <th>9室3厅</th>\n      <td>1</td>\n      <td>593.010000</td>\n    </tr>\n    <tr>\n      <th>10室2厅</th>\n      <td>1</td>\n      <td>370.000000</td>\n    </tr>\n    <tr>\n      <th>8室5厅</th>\n      <td>1</td>\n      <td>1663.100000</td>\n    </tr>\n    <tr>\n      <th>10室3厅</th>\n      <td>1</td>\n      <td>598.320000</td>\n    </tr>\n    <tr>\n      <th>10室6厅</th>\n      <td>1</td>\n      <td>473.610000</td>\n    </tr>\n    <tr>\n      <th>3室4厅</th>\n      <td>1</td>\n      <td>94.370000</td>\n    </tr>\n    <tr>\n      <th>8室1厅</th>\n      <td>1</td>\n      <td>386.170000</td>\n    </tr>\n    <tr>\n      <th>3室5厅</th>\n      <td>1</td>\n      <td>376.210000</td>\n    </tr>\n    <tr>\n      <th>4室5厅</th>\n      <td>1</td>\n      <td>321.000000</td>\n    </tr>\n    <tr>\n      <th>7室0厅</th>\n      <td>1</td>\n      <td>161.440000</td>\n    </tr>\n    <tr>\n      <th>6室6厅</th>\n      <td>1</td>\n      <td>1440.160000</td>\n    </tr>\n    <tr>\n      <th>5室0厅</th>\n      <td>1</td>\n      <td>89.600000</td>\n    </tr>\n    <tr>\n      <th>10室1厅</th>\n      <td>1</td>\n      <td>544.990000</td>\n    </tr>\n    <tr>\n      <th>9室9厅</th>\n      <td>1</td>\n      <td>1352.240000</td>\n    </tr>\n  </tbody>\n</table>\n</div>"
     },
     "metadata": {},
     "execution_count": 10
    }
   ],
   "source": [
    "df_house.groupby('huxing')['size'].agg([('房源数量','count'), ('平均面积','mean')]).sort_values(by=['房源数量'], ascending=False)"
   ]
  },
  {
   "cell_type": "markdown",
   "metadata": {},
   "source": [
    "6.获取每个小区的房源数量，并按从大到小的顺序排序（阅读参考文章⑤⑥⑦⑧）"
   ]
  },
  {
   "cell_type": "code",
   "execution_count": 11,
   "metadata": {},
   "outputs": [
    {
     "output_type": "execute_result",
     "data": {
      "text/plain": "             房源数量\nxiaoqu_name      \n上海康城          216\n同润菲诗艾伦        117\n中远两湾城         114\n美岸栖庭(公寓)      106\n金地艺境(宝山)      106\n...           ...\n莘西路122弄         1\n莘浜路285弄         1\n莘浜路217弄         1\n莘浜路157弄         1\n止园小区            1\n\n[8333 rows x 1 columns]",
      "text/html": "<div>\n<style scoped>\n    .dataframe tbody tr th:only-of-type {\n        vertical-align: middle;\n    }\n\n    .dataframe tbody tr th {\n        vertical-align: top;\n    }\n\n    .dataframe thead th {\n        text-align: right;\n    }\n</style>\n<table border=\"1\" class=\"dataframe\">\n  <thead>\n    <tr style=\"text-align: right;\">\n      <th></th>\n      <th>房源数量</th>\n    </tr>\n    <tr>\n      <th>xiaoqu_name</th>\n      <th></th>\n    </tr>\n  </thead>\n  <tbody>\n    <tr>\n      <th>上海康城</th>\n      <td>216</td>\n    </tr>\n    <tr>\n      <th>同润菲诗艾伦</th>\n      <td>117</td>\n    </tr>\n    <tr>\n      <th>中远两湾城</th>\n      <td>114</td>\n    </tr>\n    <tr>\n      <th>美岸栖庭(公寓)</th>\n      <td>106</td>\n    </tr>\n    <tr>\n      <th>金地艺境(宝山)</th>\n      <td>106</td>\n    </tr>\n    <tr>\n      <th>...</th>\n      <td>...</td>\n    </tr>\n    <tr>\n      <th>莘西路122弄</th>\n      <td>1</td>\n    </tr>\n    <tr>\n      <th>莘浜路285弄</th>\n      <td>1</td>\n    </tr>\n    <tr>\n      <th>莘浜路217弄</th>\n      <td>1</td>\n    </tr>\n    <tr>\n      <th>莘浜路157弄</th>\n      <td>1</td>\n    </tr>\n    <tr>\n      <th>止园小区</th>\n      <td>1</td>\n    </tr>\n  </tbody>\n</table>\n<p>8333 rows × 1 columns</p>\n</div>"
     },
     "metadata": {},
     "execution_count": 11
    }
   ],
   "source": [
    "df_house.groupby('xiaoqu_name')['title'].agg([('房源数量', 'count')]).sort_values(by=['房源数量'], ascending=False)"
   ]
  },
  {
   "cell_type": "markdown",
   "metadata": {},
   "source": [
    "7.请统计出上海每个小区每平方米的均价（阅读参考文章⑤⑥⑦⑧）"
   ]
  },
  {
   "cell_type": "code",
   "execution_count": 12,
   "metadata": {},
   "outputs": [
    {
     "output_type": "execute_result",
     "data": {
      "text/plain": "xiaoqu_name\nMAX未来            31574.105263\nVIP大厦            70574.000000\n一品名人居            76460.166667\n一品新筑苑            65559.700000\n一品漫城(一期)(公寓)     55750.400000\n                     ...     \n龙阳小区             65840.666667\n龙阳花苑             72077.800000\n龚华公寓             33396.250000\n龚华新村             34649.312500\n龚路新城             33937.764706\nName: up_price, Length: 8333, dtype: float64"
     },
     "metadata": {},
     "execution_count": 12
    }
   ],
   "source": [
    "df_house.groupby('xiaoqu_name')['up_price'].agg('mean')"
   ]
  },
  {
   "cell_type": "markdown",
   "metadata": {},
   "source": [
    "8.请统计出上海二手房总价排在前 5 位的房源，看看超级豪宅有多壕？（阅读参考文章⑧）"
   ]
  },
  {
   "cell_type": "code",
   "execution_count": 13,
   "metadata": {},
   "outputs": [
    {
     "output_type": "execute_result",
     "data": {
      "text/plain": "       Unnamed: 0                       _id                         title  \\\n46396       48887  5dd22309303c5558c090e6d9   花园18亩 开门见3座山 背面靠山 南东2面临天然大河   \n46451       48943  5dd22309303c5558c090e711     仟万精装、华庭岛屿大独栋！5亩占地、自住！价格可谈   \n18891       19869  5dd21bf518bba2b4a9a1061f  罕见！占地10亩庄园，整个园区的King！让上海都在仰望   \n28332       29721  5dd21d0718bba2b4a9a12cb3    安福路/常熟路 沿街独幢花园洋房，英式风格 地价已补   \n18875       19853  5dd21bf418bba2b4a9a1060f    （岛宅主推）占地8亩上产证 两面邻水靠大河 景观位置   \n\n         price  up_price xiaoqu_name     size  buildyear huxing chaoxiang  \\\n46396  35000.0    191890     世茂佘山庄园   1823.97       2008  6室3厅         南    \n46451  30000.0    189672     佘山高尔夫郡   1581.68       2009  6室3厅       南 北    \n18891  30000.0    156613      绿城玫瑰园   1915.56       2013  6室4厅         南    \n28332  24999.0    527406    常熟路182号    474.00       1937  6室3厅         南    \n18875  21000.0    128214      绿城玫瑰园   1637.89       2014  6室4厅         南    \n\n      zhuangxiu     cenggao louxing district_name sub_district_name  \n46396       毛坯          2层      板楼             松江                佘山  \n46451       精装          2层      板楼             松江                佘山  \n18891       毛坯          2层      板楼             闵行                马桥  \n28332       精装    低楼层(共3层)     板塔结合            徐汇               衡山路  \n18875       毛坯          2层      板楼             闵行                马桥  ",
      "text/html": "<div>\n<style scoped>\n    .dataframe tbody tr th:only-of-type {\n        vertical-align: middle;\n    }\n\n    .dataframe tbody tr th {\n        vertical-align: top;\n    }\n\n    .dataframe thead th {\n        text-align: right;\n    }\n</style>\n<table border=\"1\" class=\"dataframe\">\n  <thead>\n    <tr style=\"text-align: right;\">\n      <th></th>\n      <th>Unnamed: 0</th>\n      <th>_id</th>\n      <th>title</th>\n      <th>price</th>\n      <th>up_price</th>\n      <th>xiaoqu_name</th>\n      <th>size</th>\n      <th>buildyear</th>\n      <th>huxing</th>\n      <th>chaoxiang</th>\n      <th>zhuangxiu</th>\n      <th>cenggao</th>\n      <th>louxing</th>\n      <th>district_name</th>\n      <th>sub_district_name</th>\n    </tr>\n  </thead>\n  <tbody>\n    <tr>\n      <th>46396</th>\n      <td>48887</td>\n      <td>5dd22309303c5558c090e6d9</td>\n      <td>花园18亩 开门见3座山 背面靠山 南东2面临天然大河</td>\n      <td>35000.0</td>\n      <td>191890</td>\n      <td>世茂佘山庄园</td>\n      <td>1823.97</td>\n      <td>2008</td>\n      <td>6室3厅</td>\n      <td>南</td>\n      <td>毛坯</td>\n      <td>2层</td>\n      <td>板楼</td>\n      <td>松江</td>\n      <td>佘山</td>\n    </tr>\n    <tr>\n      <th>46451</th>\n      <td>48943</td>\n      <td>5dd22309303c5558c090e711</td>\n      <td>仟万精装、华庭岛屿大独栋！5亩占地、自住！价格可谈</td>\n      <td>30000.0</td>\n      <td>189672</td>\n      <td>佘山高尔夫郡</td>\n      <td>1581.68</td>\n      <td>2009</td>\n      <td>6室3厅</td>\n      <td>南 北</td>\n      <td>精装</td>\n      <td>2层</td>\n      <td>板楼</td>\n      <td>松江</td>\n      <td>佘山</td>\n    </tr>\n    <tr>\n      <th>18891</th>\n      <td>19869</td>\n      <td>5dd21bf518bba2b4a9a1061f</td>\n      <td>罕见！占地10亩庄园，整个园区的King！让上海都在仰望</td>\n      <td>30000.0</td>\n      <td>156613</td>\n      <td>绿城玫瑰园</td>\n      <td>1915.56</td>\n      <td>2013</td>\n      <td>6室4厅</td>\n      <td>南</td>\n      <td>毛坯</td>\n      <td>2层</td>\n      <td>板楼</td>\n      <td>闵行</td>\n      <td>马桥</td>\n    </tr>\n    <tr>\n      <th>28332</th>\n      <td>29721</td>\n      <td>5dd21d0718bba2b4a9a12cb3</td>\n      <td>安福路/常熟路 沿街独幢花园洋房，英式风格 地价已补</td>\n      <td>24999.0</td>\n      <td>527406</td>\n      <td>常熟路182号</td>\n      <td>474.00</td>\n      <td>1937</td>\n      <td>6室3厅</td>\n      <td>南</td>\n      <td>精装</td>\n      <td>低楼层(共3层)</td>\n      <td>板塔结合</td>\n      <td>徐汇</td>\n      <td>衡山路</td>\n    </tr>\n    <tr>\n      <th>18875</th>\n      <td>19853</td>\n      <td>5dd21bf418bba2b4a9a1060f</td>\n      <td>（岛宅主推）占地8亩上产证 两面邻水靠大河 景观位置</td>\n      <td>21000.0</td>\n      <td>128214</td>\n      <td>绿城玫瑰园</td>\n      <td>1637.89</td>\n      <td>2014</td>\n      <td>6室4厅</td>\n      <td>南</td>\n      <td>毛坯</td>\n      <td>2层</td>\n      <td>板楼</td>\n      <td>闵行</td>\n      <td>马桥</td>\n    </tr>\n  </tbody>\n</table>\n</div>"
     },
     "metadata": {},
     "execution_count": 13
    }
   ],
   "source": [
    "df_house.sort_values(by=['price'], ascending=False).head()"
   ]
  },
  {
   "cell_type": "markdown",
   "metadata": {},
   "source": [
    "9.请计算出不同年代的房子数量（10年一个区间）（任务提示：先将 buildyear 列转为时间序列，再利用 groupby 函数统计出每年的房源数量，最后用 resample 函数进行汇总。阅读参考文章⑨⑩⑪）"
   ]
  },
  {
   "cell_type": "code",
   "execution_count": 14,
   "metadata": {},
   "outputs": [
    {
     "output_type": "execute_result",
     "data": {
      "text/plain": "             房源数量\nbuildyear        \n1900-01-01      1\n1910-01-01      6\n1920-01-01     24\n1930-01-01    116\n1940-01-01     49\n1950-01-01    398\n1960-01-01    258\n1970-01-01    872\n1980-01-01   7887\n1990-01-01  23257\n2000-01-01  24463\n2010-01-01  12323",
      "text/html": "<div>\n<style scoped>\n    .dataframe tbody tr th:only-of-type {\n        vertical-align: middle;\n    }\n\n    .dataframe tbody tr th {\n        vertical-align: top;\n    }\n\n    .dataframe thead th {\n        text-align: right;\n    }\n</style>\n<table border=\"1\" class=\"dataframe\">\n  <thead>\n    <tr style=\"text-align: right;\">\n      <th></th>\n      <th>房源数量</th>\n    </tr>\n    <tr>\n      <th>buildyear</th>\n      <th></th>\n    </tr>\n  </thead>\n  <tbody>\n    <tr>\n      <th>1900-01-01</th>\n      <td>1</td>\n    </tr>\n    <tr>\n      <th>1910-01-01</th>\n      <td>6</td>\n    </tr>\n    <tr>\n      <th>1920-01-01</th>\n      <td>24</td>\n    </tr>\n    <tr>\n      <th>1930-01-01</th>\n      <td>116</td>\n    </tr>\n    <tr>\n      <th>1940-01-01</th>\n      <td>49</td>\n    </tr>\n    <tr>\n      <th>1950-01-01</th>\n      <td>398</td>\n    </tr>\n    <tr>\n      <th>1960-01-01</th>\n      <td>258</td>\n    </tr>\n    <tr>\n      <th>1970-01-01</th>\n      <td>872</td>\n    </tr>\n    <tr>\n      <th>1980-01-01</th>\n      <td>7887</td>\n    </tr>\n    <tr>\n      <th>1990-01-01</th>\n      <td>23257</td>\n    </tr>\n    <tr>\n      <th>2000-01-01</th>\n      <td>24463</td>\n    </tr>\n    <tr>\n      <th>2010-01-01</th>\n      <td>12323</td>\n    </tr>\n  </tbody>\n</table>\n</div>"
     },
     "metadata": {},
     "execution_count": 14
    }
   ],
   "source": [
    "df_house.buildyear = pd.to_datetime(df_house.buildyear, format=\"%Y\")\n",
    "df_house.groupby('buildyear')['title'].agg([('房源数量', 'count')]).resample('10AS').sum()"
   ]
  },
  {
   "cell_type": "code",
   "execution_count": null,
   "metadata": {},
   "outputs": [],
   "source": []
  }
 ],
 "metadata": {
  "language_info": {
   "codemirror_mode": {
    "name": "ipython",
    "version": 3
   },
   "file_extension": ".py",
   "mimetype": "text/x-python",
   "name": "python",
   "nbconvert_exporter": "python",
   "pygments_lexer": "ipython3",
   "version": "3.7.2-final"
  },
  "orig_nbformat": 2,
  "kernelspec": {
   "name": "python37264bitpandaspipenvfd6d917ada63417297b661f10300e4d1",
   "display_name": "Python 3.7.2 64-bit ('pandas': pipenv)"
  }
 },
 "nbformat": 4,
 "nbformat_minor": 2
}