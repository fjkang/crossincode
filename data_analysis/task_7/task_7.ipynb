{
 "cells": [
  {
   "cell_type": "code",
   "execution_count": 1,
   "metadata": {},
   "outputs": [],
   "source": [
    "import pandas as pd\n",
    "import numpy as np\n",
    "import matplotlib.pyplot as plt\n",
    "import pylab\n",
    "pylab.mpl.rcParams['font.sans-serif'] = ['SimHei'] #支持中文"
   ]
  },
  {
   "cell_type": "markdown",
   "metadata": {},
   "source": [
    "任务详情\n",
    "\n",
    "现有一组北京地区数据分析师的岗位数据，存于 jobs.csv 中。字段含义如下图，请按要求进行数据分析统计： \n",
    "\n",
    "![](https://cdn.py2china.cn/study-group/pandas/7-1.png)\n"
   ]
  },
  {
   "cell_type": "markdown",
   "metadata": {},
   "source": [
    "1.利用 pandas 读取 csv 格式数据文件，去除其中的重复值，并展示前部数据（阅读参考文章①②）"
   ]
  },
  {
   "cell_type": "code",
   "execution_count": 2,
   "metadata": {},
   "outputs": [
    {
     "output_type": "execute_result",
     "data": {
      "text/plain": "                                               title                company  \\\n0                                            招聘数据分析师           北京越铖国际科技有限公司   \n1                                              数据分析师      北京新东方教育科技（集团）有限公司   \n2                                          数据分析师(新浪)          新浪网技术(中国)有限公司   \n3                                              数据分析师         北京美科思远环境科技有限公司   \n4  助理、临床样本库采样人员、软件工程师、数据库管理工程师、机械设计与结构工程师、Android...  中国人民解放军总医院（北京市解放军医学院）   \n\n  company_size      industry type       salary company_type     source  \\\n0       20-99人    人事/行政/高级管理   全职   8000-12000           民营         斗米   \n1          NaN  计算机/互联网/信息技术   全职  12000-20000           民营  OFweek人才网   \n2   2000-5000人         数据分析师   全职  20000-25000     外商独资/办事处         猎聘   \n3       20-99人      环保/环境科学类   全职  12000-20000          股份制      北极星招聘   \n4          NaN            医疗   全职           面议         公立医院    康强医疗人才网   \n\n  experience education  salary2  \n0         不限        不限  10000.0  \n1         不限        不限  16000.0  \n2       3-5年        本科  22500.0  \n3         不限        硕士  16000.0  \n4         不限        不限      NaN  ",
      "text/html": "<div>\n<style scoped>\n    .dataframe tbody tr th:only-of-type {\n        vertical-align: middle;\n    }\n\n    .dataframe tbody tr th {\n        vertical-align: top;\n    }\n\n    .dataframe thead th {\n        text-align: right;\n    }\n</style>\n<table border=\"1\" class=\"dataframe\">\n  <thead>\n    <tr style=\"text-align: right;\">\n      <th></th>\n      <th>title</th>\n      <th>company</th>\n      <th>company_size</th>\n      <th>industry</th>\n      <th>type</th>\n      <th>salary</th>\n      <th>company_type</th>\n      <th>source</th>\n      <th>experience</th>\n      <th>education</th>\n      <th>salary2</th>\n    </tr>\n  </thead>\n  <tbody>\n    <tr>\n      <th>0</th>\n      <td>招聘数据分析师</td>\n      <td>北京越铖国际科技有限公司</td>\n      <td>20-99人</td>\n      <td>人事/行政/高级管理</td>\n      <td>全职</td>\n      <td>8000-12000</td>\n      <td>民营</td>\n      <td>斗米</td>\n      <td>不限</td>\n      <td>不限</td>\n      <td>10000.0</td>\n    </tr>\n    <tr>\n      <th>1</th>\n      <td>数据分析师</td>\n      <td>北京新东方教育科技（集团）有限公司</td>\n      <td>NaN</td>\n      <td>计算机/互联网/信息技术</td>\n      <td>全职</td>\n      <td>12000-20000</td>\n      <td>民营</td>\n      <td>OFweek人才网</td>\n      <td>不限</td>\n      <td>不限</td>\n      <td>16000.0</td>\n    </tr>\n    <tr>\n      <th>2</th>\n      <td>数据分析师(新浪)</td>\n      <td>新浪网技术(中国)有限公司</td>\n      <td>2000-5000人</td>\n      <td>数据分析师</td>\n      <td>全职</td>\n      <td>20000-25000</td>\n      <td>外商独资/办事处</td>\n      <td>猎聘</td>\n      <td>3-5年</td>\n      <td>本科</td>\n      <td>22500.0</td>\n    </tr>\n    <tr>\n      <th>3</th>\n      <td>数据分析师</td>\n      <td>北京美科思远环境科技有限公司</td>\n      <td>20-99人</td>\n      <td>环保/环境科学类</td>\n      <td>全职</td>\n      <td>12000-20000</td>\n      <td>股份制</td>\n      <td>北极星招聘</td>\n      <td>不限</td>\n      <td>硕士</td>\n      <td>16000.0</td>\n    </tr>\n    <tr>\n      <th>4</th>\n      <td>助理、临床样本库采样人员、软件工程师、数据库管理工程师、机械设计与结构工程师、Android...</td>\n      <td>中国人民解放军总医院（北京市解放军医学院）</td>\n      <td>NaN</td>\n      <td>医疗</td>\n      <td>全职</td>\n      <td>面议</td>\n      <td>公立医院</td>\n      <td>康强医疗人才网</td>\n      <td>不限</td>\n      <td>不限</td>\n      <td>NaN</td>\n    </tr>\n  </tbody>\n</table>\n</div>"
     },
     "metadata": {},
     "execution_count": 2
    }
   ],
   "source": [
    "df_jobs = pd.read_csv('./jobs.csv').drop_duplicates()\n",
    "df_jobs.head()"
   ]
  },
  {
   "cell_type": "markdown",
   "metadata": {},
   "source": [
    "2.统计数据表中的招聘岗位都来自于哪些网站（阅读参考文章③④）"
   ]
  },
  {
   "cell_type": "code",
   "execution_count": 3,
   "metadata": {},
   "outputs": [
    {
     "output_type": "execute_result",
     "data": {
      "text/plain": "猎聘           580\nOFweek人才网     33\n斗米            17\n北极星招聘          5\n百姓网            5\n普工招聘网          4\n工厂直聘网          2\n康强医疗人才网        1\nName: source, dtype: int64"
     },
     "metadata": {},
     "execution_count": 3
    }
   ],
   "source": [
    "df_jobs.source.value_counts()"
   ]
  },
  {
   "cell_type": "markdown",
   "metadata": {},
   "source": [
    "3.统计数据分析师这个岗位，对于工作经验的要求（阅读参考文章③④）"
   ]
  },
  {
   "cell_type": "code",
   "execution_count": 4,
   "metadata": {},
   "outputs": [
    {
     "output_type": "execute_result",
     "data": {
      "text/plain": "不限    18\nName: experience, dtype: int64"
     },
     "metadata": {},
     "execution_count": 4
    }
   ],
   "source": [
    "data_analyst = df_jobs[df_jobs.title=='数据分析师']\n",
    "data_analyst.experience.value_counts()"
   ]
  },
  {
   "cell_type": "markdown",
   "metadata": {},
   "source": [
    "4.统计该地区数据分析岗位对于教育背景的要求（阅读参考文章③④）"
   ]
  },
  {
   "cell_type": "code",
   "execution_count": 5,
   "metadata": {},
   "outputs": [
    {
     "output_type": "execute_result",
     "data": {
      "text/plain": "不限    13\n本科     3\n硕士     2\nName: education, dtype: int64"
     },
     "metadata": {},
     "execution_count": 5
    }
   ],
   "source": [
    "data_analyst.education.value_counts()"
   ]
  },
  {
   "cell_type": "markdown",
   "metadata": {},
   "source": [
    "5.请统计出不同类型公司的职位数量（阅读参考文章③④）"
   ]
  },
  {
   "cell_type": "code",
   "execution_count": 6,
   "metadata": {},
   "outputs": [
    {
     "output_type": "execute_result",
     "data": {
      "text/plain": "民营          458\n上市公司         62\n外商独资/办事处     45\n中外合资/合作      42\n国企           34\n事业单位          4\n个人企业          2\n其它            1\n公立医院          1\n股份制           1\nName: company_type, dtype: int64"
     },
     "metadata": {},
     "execution_count": 6
    }
   ],
   "source": [
    "df_jobs.company_type.value_counts()"
   ]
  },
  {
   "cell_type": "markdown",
   "metadata": {},
   "source": [
    "6.所有职位的平均工资是多少"
   ]
  },
  {
   "cell_type": "code",
   "execution_count": 7,
   "metadata": {},
   "outputs": [
    {
     "output_type": "execute_result",
     "data": {
      "text/plain": "14409.894688644688"
     },
     "metadata": {},
     "execution_count": 7
    }
   ],
   "source": [
    "df_jobs.salary2.mean()"
   ]
  },
  {
   "cell_type": "markdown",
   "metadata": {},
   "source": [
    "7.请统计平均薪资（即 salary2）排在前 10 位的招聘公司及金额（阅读参考文章⑤⑥）"
   ]
  },
  {
   "cell_type": "code",
   "execution_count": 8,
   "metadata": {},
   "outputs": [
    {
     "output_type": "execute_result",
     "data": {
      "text/plain": "           company  salary2\n648      国内知名互联网企业  25000.0\n550     北京友信科技有限公司  25000.0\n401       北京某互联网公司  25000.0\n554     北京友信科技有限公司  25000.0\n211  北京百分点信息科技有限公司  25000.0\n404          某金融公司  25000.0\n574   北京中科恒硕科技有限公司  25000.0\n177     北京快手科技有限公司  25000.0\n416     某知名互联网金融公司  25000.0\n163   北京永利范思科技有限公司  25000.0",
      "text/html": "<div>\n<style scoped>\n    .dataframe tbody tr th:only-of-type {\n        vertical-align: middle;\n    }\n\n    .dataframe tbody tr th {\n        vertical-align: top;\n    }\n\n    .dataframe thead th {\n        text-align: right;\n    }\n</style>\n<table border=\"1\" class=\"dataframe\">\n  <thead>\n    <tr style=\"text-align: right;\">\n      <th></th>\n      <th>company</th>\n      <th>salary2</th>\n    </tr>\n  </thead>\n  <tbody>\n    <tr>\n      <th>648</th>\n      <td>国内知名互联网企业</td>\n      <td>25000.0</td>\n    </tr>\n    <tr>\n      <th>550</th>\n      <td>北京友信科技有限公司</td>\n      <td>25000.0</td>\n    </tr>\n    <tr>\n      <th>401</th>\n      <td>北京某互联网公司</td>\n      <td>25000.0</td>\n    </tr>\n    <tr>\n      <th>554</th>\n      <td>北京友信科技有限公司</td>\n      <td>25000.0</td>\n    </tr>\n    <tr>\n      <th>211</th>\n      <td>北京百分点信息科技有限公司</td>\n      <td>25000.0</td>\n    </tr>\n    <tr>\n      <th>404</th>\n      <td>某金融公司</td>\n      <td>25000.0</td>\n    </tr>\n    <tr>\n      <th>574</th>\n      <td>北京中科恒硕科技有限公司</td>\n      <td>25000.0</td>\n    </tr>\n    <tr>\n      <th>177</th>\n      <td>北京快手科技有限公司</td>\n      <td>25000.0</td>\n    </tr>\n    <tr>\n      <th>416</th>\n      <td>某知名互联网金融公司</td>\n      <td>25000.0</td>\n    </tr>\n    <tr>\n      <th>163</th>\n      <td>北京永利范思科技有限公司</td>\n      <td>25000.0</td>\n    </tr>\n  </tbody>\n</table>\n</div>"
     },
     "metadata": {},
     "execution_count": 8
    }
   ],
   "source": [
    "salary2_top10 = df_jobs.sort_values(by='salary2', ascending=False).head(10)\n",
    "salary2_top10[['company', 'salary2']]"
   ]
  },
  {
   "cell_type": "markdown",
   "metadata": {},
   "source": [
    "8.请统计发布职位数排在前 10 位的招聘公司及其职位数量（阅读参考文章⑤⑥）"
   ]
  },
  {
   "cell_type": "code",
   "execution_count": 9,
   "metadata": {},
   "outputs": [
    {
     "output_type": "execute_result",
     "data": {
      "text/plain": "深圳索信达数据技术有限公司          7\n百度在线网络技术(北京)有限公司       7\n车好多旧机动车经纪(北京)有限公司      7\n海南小易到家电子商务有限公司上海分公司    6\n苏州皇亭电子有限公司             5\n贝壳找房(北京)科技有限公司         5\n北京友信科技有限公司             4\n北京中油瑞飞信息技术有限责任公司       4\n北京字节跳动网络技术有限公司         4\n北京百分点信息科技有限公司          4\nName: company, dtype: int64"
     },
     "metadata": {},
     "execution_count": 9
    }
   ],
   "source": [
    "df_jobs.company.value_counts()[:10]"
   ]
  },
  {
   "cell_type": "markdown",
   "metadata": {},
   "source": [
    "9.请统计出平均工资排在前 10 位的公司类型及平均工资金额（阅读参考文章⑤⑥）"
   ]
  },
  {
   "cell_type": "code",
   "execution_count": 10,
   "metadata": {},
   "outputs": [
    {
     "output_type": "execute_result",
     "data": {
      "text/plain": "    company_type  salary2\n648           民营  25000.0\n550           民营  25000.0\n401           民营  25000.0\n554           民营  25000.0\n211           民营  25000.0\n404           民营  25000.0\n574           民营  25000.0\n177           民营  25000.0\n416           民营  25000.0\n163           民营  25000.0",
      "text/html": "<div>\n<style scoped>\n    .dataframe tbody tr th:only-of-type {\n        vertical-align: middle;\n    }\n\n    .dataframe tbody tr th {\n        vertical-align: top;\n    }\n\n    .dataframe thead th {\n        text-align: right;\n    }\n</style>\n<table border=\"1\" class=\"dataframe\">\n  <thead>\n    <tr style=\"text-align: right;\">\n      <th></th>\n      <th>company_type</th>\n      <th>salary2</th>\n    </tr>\n  </thead>\n  <tbody>\n    <tr>\n      <th>648</th>\n      <td>民营</td>\n      <td>25000.0</td>\n    </tr>\n    <tr>\n      <th>550</th>\n      <td>民营</td>\n      <td>25000.0</td>\n    </tr>\n    <tr>\n      <th>401</th>\n      <td>民营</td>\n      <td>25000.0</td>\n    </tr>\n    <tr>\n      <th>554</th>\n      <td>民营</td>\n      <td>25000.0</td>\n    </tr>\n    <tr>\n      <th>211</th>\n      <td>民营</td>\n      <td>25000.0</td>\n    </tr>\n    <tr>\n      <th>404</th>\n      <td>民营</td>\n      <td>25000.0</td>\n    </tr>\n    <tr>\n      <th>574</th>\n      <td>民营</td>\n      <td>25000.0</td>\n    </tr>\n    <tr>\n      <th>177</th>\n      <td>民营</td>\n      <td>25000.0</td>\n    </tr>\n    <tr>\n      <th>416</th>\n      <td>民营</td>\n      <td>25000.0</td>\n    </tr>\n    <tr>\n      <th>163</th>\n      <td>民营</td>\n      <td>25000.0</td>\n    </tr>\n  </tbody>\n</table>\n</div>"
     },
     "metadata": {},
     "execution_count": 10
    }
   ],
   "source": [
    "salary2_top10[['company_type', 'salary2']]"
   ]
  },
  {
   "cell_type": "code",
   "execution_count": null,
   "metadata": {},
   "outputs": [],
   "source": []
  }
 ],
 "metadata": {
  "language_info": {
   "codemirror_mode": {
    "name": "ipython",
    "version": 3
   },
   "file_extension": ".py",
   "mimetype": "text/x-python",
   "name": "python",
   "nbconvert_exporter": "python",
   "pygments_lexer": "ipython3",
   "version": "3.7.2-final"
  },
  "orig_nbformat": 2,
  "kernelspec": {
   "name": "python37264bitpandaspipenvfd6d917ada63417297b661f10300e4d1",
   "display_name": "Python 3.7.2 64-bit ('pandas': pipenv)"
  }
 },
 "nbformat": 4,
 "nbformat_minor": 2
}